{
 "cells": [
  {
   "cell_type": "markdown",
   "metadata": {},
   "source": [
    "# How to deal with bugs\n",
    "\n",
    "pyGSFLOW is an open source tool that has been under development since 2018 and is an outgrowth of two disconnected code bases that were both originally designed to help with model development and calibration. These code bases were merged in 2019 and a suite of tests were created to try to ensure base functionality. Although the tests cover a good portion of the code, the code is imperfect and bugs occasionally pop up. Here is what to do if you think you've found one.\n",
    "\n",
    "\n",
    "## Step 1) make sure there are no input errors in the model files being loaded\n",
    "This is as easy as checking if GSFLOW will run with your current configuration. If GSFLOW runs, but pyGSFLOW will not load your files this is most likely a bug.\n",
    "\n",
    "## Step 2) Take a screenshot of the full error message\n",
    "The error message helps with debugging the issue\n",
    "\n",
    "## Step 3) Open a new issue on github and provide a brief description\n",
    "Issues can be opened at [https://github.com/pygsflow/pygsflow/issues](https://github.com/pygsflow/pygsflow/issues). Please provide a short description of what you were trying to do when the error occurred. This could include a written description and/or a small code snippet. And upload a screenshot of the error message.\n",
    "\n",
    "### Optional: Contributing a bug fix\n",
    "pyGSFLOW accepts pull requests from the community into the development branch. If you found a bug that you can fix, fork pyGSFLOW to your personal github, perform the repair, add a small test case to the autotesting folder, and submit a PR. Pull requests will be reviewed before being pulled into the development branch. \n"
   ]
  },
  {
   "cell_type": "code",
   "execution_count": null,
   "metadata": {},
   "outputs": [],
   "source": []
  }
 ],
 "metadata": {
  "kernelspec": {
   "display_name": "Python 3",
   "language": "python",
   "name": "python3"
  },
  "language_info": {
   "codemirror_mode": {
    "name": "ipython",
    "version": 3
   },
   "file_extension": ".py",
   "mimetype": "text/x-python",
   "name": "python",
   "nbconvert_exporter": "python",
   "pygments_lexer": "ipython3",
   "version": "3.7.4"
  }
 },
 "nbformat": 4,
 "nbformat_minor": 2
}
