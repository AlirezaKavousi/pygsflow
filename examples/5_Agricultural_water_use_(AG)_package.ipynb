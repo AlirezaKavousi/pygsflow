{
 "cells": [
  {
   "cell_type": "markdown",
   "metadata": {},
   "source": [
    "# MODFLOW-NWT Agricultural Water Use package (AWU) example\n",
    "\n",
    "The Agricultural water use package allows users to specify irrigation from wells and stream segments within MODFLOW-NWT and GSFLOW.\n",
    "\n",
    "In this notebook examples of how to read in the AWU package using pygsflow are presented"
   ]
  },
  {
   "cell_type": "code",
   "execution_count": null,
   "metadata": {},
   "outputs": [],
   "source": [
    "import os\n",
    "import gsflow\n",
    "import flopy\n",
    "import numpy as np\n",
    "import matplotlib.pyplot as plt"
   ]
  },
  {
   "cell_type": "markdown",
   "metadata": {},
   "source": [
    "## Loading a pre-built AWU package file\n",
    "\n",
    "We can load the AWU package as part of a GSFLOW or modflow model automatically, or load the AWU package individually using the `ModflowAwu` class.\n",
    "\n",
    "Here we present the second option for illustration."
   ]
  },
  {
   "cell_type": "code",
   "execution_count": null,
   "metadata": {},
   "outputs": [],
   "source": [
    "# define workspace and our ag_file name\n",
    "workspace = os.path.join(\".\", \"data\", \"sagehen\", \"modflow\")\n",
    "ag_file = \"sagehen.awu\"\n",
    "dis_file = \"saghen_ag.dis\""
   ]
  },
  {
   "cell_type": "markdown",
   "metadata": {},
   "source": [
    "Let's create an empty `Modflow` model object so we can begin adding packages to it"
   ]
  },
  {
   "cell_type": "code",
   "execution_count": null,
   "metadata": {},
   "outputs": [],
   "source": [
    "ml = gsflow.modflow.Modflow(modelname=\"sagehen_example\", model_ws=workspace)\n",
    "ml"
   ]
  },
  {
   "cell_type": "markdown",
   "metadata": {},
   "source": [
    "Next we can add the DIS file to the `Modflow` object. This will give us information about the model size, and the length of the model. \n",
    "\n",
    "### Note: We are going to use `flopy` to read in the dis file and add it to the `Modflow` object"
   ]
  },
  {
   "cell_type": "code",
   "execution_count": null,
   "metadata": {},
   "outputs": [],
   "source": [
    "dis = flopy.modflow.ModflowDis.load(os.path.join(workspace, dis_file), model=ml)\n",
    "ml"
   ]
  },
  {
   "cell_type": "markdown",
   "metadata": {},
   "source": [
    "From the output, we can see that the `ModflowDis` object has been loaded and added to the `Modflow` model\n",
    "\n",
    "### Now let's load the AG package using pygsflow's `ModflowAG.load()` method\n",
    "\n",
    "The `load()` method has a few important parameters.\n",
    "\n",
    "`f` : the AWU package file name\n",
    "\n",
    "`model` : the `gsflow.modflow.Modflow` model object\n",
    "\n",
    "`nper` : number of stress periods in the model\n"
   ]
  },
  {
   "cell_type": "code",
   "execution_count": null,
   "metadata": {},
   "outputs": [],
   "source": [
    "ag = gsflow.modflow.ModflowAg.load(os.path.join(workspace, ag_file), model=ml, nper=dis.nper)\n",
    "# now let's look at the well_list\n",
    "ag.well_list"
   ]
  },
  {
   "cell_type": "markdown",
   "metadata": {},
   "source": [
    "### the well_list is stored as a flopy compatible recarray, we can also look at some of the other datatypes\n",
    "\n",
    "other datatypes include:\n",
    "\n",
    "`irrdiversion` which hold the irrdiversion blocks from the AG package\n",
    "\n",
    "`irrwell` which holds the irrwell blocks from the AG package\n",
    "\n",
    "`supwell` which holds the supwell blocks from the AG package"
   ]
  },
  {
   "cell_type": "code",
   "execution_count": null,
   "metadata": {},
   "outputs": [],
   "source": [
    "# irrdiversion\n",
    "irs = ag.irrdiversion\n",
    "\n",
    "# irrwell\n",
    "irr = ag.irrwell\n",
    "\n",
    "# supwell\n",
    "sup = ag.supwell\n",
    "\n",
    "print(irr)"
   ]
  },
  {
   "cell_type": "markdown",
   "metadata": {},
   "source": [
    "## Now let's illustrate how to build an AG package from scratch\n",
    "\n",
    "First let's get some empty data-types to store data in using `ModflowAg.get_empty()`"
   ]
  },
  {
   "cell_type": "code",
   "execution_count": null,
   "metadata": {},
   "outputs": [],
   "source": [
    "well_list = gsflow.modflow.ModflowAwu.get_empty(numrecords=2, block=\"well\")"
   ]
  },
  {
   "cell_type": "markdown",
   "metadata": {},
   "source": [
    "Let's create 2 wells now and add it to our well_list "
   ]
  },
  {
   "cell_type": "code",
   "execution_count": null,
   "metadata": {},
   "outputs": [],
   "source": [
    "# layer, row, column, maximum_flux\n",
    "temp = [[1, 38, 53, -500.],\n",
    "        [1, 38, 54, -1000.]]\n",
    "\n",
    "for ix, well in enumerate(temp):\n",
    "    well_list[ix] = tuple(well)\n",
    "    \n",
    "well_list"
   ]
  },
  {
   "cell_type": "markdown",
   "metadata": {},
   "source": [
    "Now let's create two irrigation cells that are linked to our wells"
   ]
  },
  {
   "cell_type": "code",
   "execution_count": null,
   "metadata": {},
   "outputs": [],
   "source": [
    "irrwell0 = gsflow.modflow.ModflowAwu.get_empty(numrecords=2, maxells=1, block=\"irrwell\")\n",
    "\n",
    "# let's look at the dtypes we need \n",
    "irrwell0.dtype.names"
   ]
  },
  {
   "cell_type": "markdown",
   "metadata": {},
   "source": [
    "Let's create two irrigation cell links and add it to our irrwell\n",
    "\n",
    "Note: -1e+10 and 1e+10 are used to indicate that there is no data for this (unused variables), see Agricultural Water Use Package for MODFLOW-NWT for more infromation about the variables... "
   ]
  },
  {
   "cell_type": "code",
   "execution_count": null,
   "metadata": {},
   "outputs": [],
   "source": [
    "# 'wellid', 'numcell', 'period', 'triggerfact', 'hru_id0', 'dum0', 'eff_fact0', 'field_fact0'\n",
    "temp = [[1, 1, -1e+10, 1e+10, 2741, -1, 1., 0.5],\n",
    "        [2, 1, -1e+10, 1e+10, 2743, -1, 1., 0.5]]\n",
    "\n",
    "for ix, irr in enumerate(temp):\n",
    "    irrwell0[ix] = tuple(irr)\n",
    "\n",
    "irrwell0"
   ]
  },
  {
   "cell_type": "markdown",
   "metadata": {},
   "source": [
    "Since irrwell is stress period data, this needs to be made for each stress period in the model and placed in a dictionary with the format `{kper : data}`\n",
    "\n",
    "We are just going to reuse the same dataset for a three stress period example"
   ]
  },
  {
   "cell_type": "code",
   "execution_count": null,
   "metadata": {
    "scrolled": true
   },
   "outputs": [],
   "source": [
    "kper = 3\n",
    "\n",
    "irrwell = {}\n",
    "for per in range(kper):\n",
    "    irrwell[per] = irrwell0\n",
    "    \n",
    "irrwell"
   ]
  },
  {
   "cell_type": "markdown",
   "metadata": {},
   "source": [
    "# Now let's start building our new `ModflowAg` object using the data we just created\n",
    "\n",
    "### We will need to start by specifying the option block using the new `OptionBlock` utility in FloPy\n",
    "\n",
    "let's create an empty options block and start filling out the data"
   ]
  },
  {
   "cell_type": "code",
   "execution_count": null,
   "metadata": {},
   "outputs": [],
   "source": [
    "options = flopy.utils.OptionBlock(options_line=\"\", package=gsflow.modflow.ModflowAwu)\n",
    "options"
   ]
  },
  {
   "cell_type": "markdown",
   "metadata": {},
   "source": [
    "First let's specify the number of wells in the AG package (see Agricultural Water Use Package doc, for variable names)"
   ]
  },
  {
   "cell_type": "code",
   "execution_count": null,
   "metadata": {},
   "outputs": [],
   "source": [
    "options.maxwells = True\n",
    "options.nummaxwell = 2\n",
    "\n",
    "# we can see that the maxwell option and nummaxwell have been added to the options block\n",
    "print(options)"
   ]
  },
  {
   "cell_type": "markdown",
   "metadata": {},
   "source": [
    "Now let's specify our irriagation well information"
   ]
  },
  {
   "cell_type": "code",
   "execution_count": null,
   "metadata": {},
   "outputs": [],
   "source": [
    "options.irrigation_well = True\n",
    "options.numirrwells = 2\n",
    "options.maxcellswell = 1\n",
    "\n",
    "options"
   ]
  },
  {
   "cell_type": "markdown",
   "metadata": {},
   "source": [
    "Finally let's specify the unit number to write CBC output for wells to "
   ]
  },
  {
   "cell_type": "code",
   "execution_count": null,
   "metadata": {},
   "outputs": [],
   "source": [
    "options.wellcbc = True\n",
    "options.unitcbc = 99\n",
    "\n",
    "options"
   ]
  },
  {
   "cell_type": "markdown",
   "metadata": {},
   "source": [
    "### Now we're ready to create our new `ModflowAg` package object"
   ]
  },
  {
   "cell_type": "code",
   "execution_count": null,
   "metadata": {},
   "outputs": [],
   "source": [
    "new_ag = gsflow.modflow.ModflowAg(ml, options=options, well_list=well_list, irrwell=irrwell)\n",
    "new_ag"
   ]
  },
  {
   "cell_type": "markdown",
   "metadata": {},
   "source": [
    "### Finally we can write the new_file to disk"
   ]
  },
  {
   "cell_type": "code",
   "execution_count": null,
   "metadata": {},
   "outputs": [],
   "source": [
    "new_ag.write_file()"
   ]
  },
  {
   "cell_type": "code",
   "execution_count": null,
   "metadata": {},
   "outputs": [],
   "source": []
  }
 ],
 "metadata": {
  "kernelspec": {
   "display_name": "Python 3",
   "language": "python",
   "name": "python3"
  },
  "language_info": {
   "codemirror_mode": {
    "name": "ipython",
    "version": 3
   },
   "file_extension": ".py",
   "mimetype": "text/x-python",
   "name": "python",
   "nbconvert_exporter": "python",
   "pygments_lexer": "ipython3",
   "version": "3.7.4"
  }
 },
 "nbformat": 4,
 "nbformat_minor": 2
}
