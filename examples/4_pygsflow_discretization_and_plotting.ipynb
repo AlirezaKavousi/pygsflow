{
 "cells": [
  {
   "cell_type": "markdown",
   "metadata": {},
   "source": [
    "# `PrmsDiscretization` and `PrmsPlot`\n",
    "\n",
    "In this notebook we give a quick rundown of how to import a discretization for a PRMS model and how to plot figures using this discretization.\n",
    "\n"
   ]
  },
  {
   "cell_type": "code",
   "execution_count": null,
   "metadata": {},
   "outputs": [],
   "source": [
    "import os\n",
    "from gsflow import GsflowModel\n",
    "from gsflow.output import PrmsDiscretization, PrmsPlot\n",
    "import matplotlib.pyplot as plt\n",
    "import numpy as np\n",
    "import os"
   ]
  },
  {
   "cell_type": "markdown",
   "metadata": {},
   "source": [
    "To start this tutorial, let's load the Sagehen model to work with"
   ]
  },
  {
   "cell_type": "code",
   "execution_count": null,
   "metadata": {},
   "outputs": [],
   "source": [
    "workspace = os.path.join(\".\", \"data\", \"sagehen\", \"gsflow\")\n",
    "control = \"saghen_new_cont.control\"\n",
    "\n",
    "gs = GsflowModel.load_from_file(os.path.join(workspace, control))"
   ]
  },
  {
   "cell_type": "markdown",
   "metadata": {},
   "source": [
    "## Loading discretization from flopy\n",
    "\n",
    "We can load our discretization from the Modflow model if the hru's in PRMS correspond to the modflow grid cells\n",
    "\n",
    "We can also plot the discretization from the `PrmsDiscretization` object"
   ]
  },
  {
   "cell_type": "code",
   "execution_count": null,
   "metadata": {},
   "outputs": [],
   "source": [
    "mf = gs.mf\n",
    "prms_dis = PrmsDiscretization.load_from_flopy(mf)\n",
    "prms_dis.plot_discretization()"
   ]
  },
  {
   "cell_type": "markdown",
   "metadata": {},
   "source": [
    "## Load discretization from a shapefile\n",
    "\n",
    "We can also load the hru discretization from a shapefile. This is import, because HRU shapes and sizes do not have to correspond to the modflow grid"
   ]
  },
  {
   "cell_type": "code",
   "execution_count": null,
   "metadata": {},
   "outputs": [],
   "source": [
    "workspace = os.path.join(\".\", \"data\", \"sagehen\", \"shapefiles\")\n",
    "shp = \"hru_params.shp\"\n",
    "\n",
    "prms_dis = PrmsDiscretization.load_from_shapefile(os.path.join(workspace, shp))\n",
    "prms_dis.plot_discretization()"
   ]
  },
  {
   "cell_type": "markdown",
   "metadata": {},
   "source": [
    "## Using `PrmsPlot` with the `PrmsDiscretization` object\n",
    "\n",
    "`PrmsPlot` can be instatiated easily by passing it a `PrmsDiscetizaiton` object\n",
    "\n",
    "We can use this to plot parameters from the parameter file, contour parameters, plot arrays of data, and contour arrays of data"
   ]
  },
  {
   "cell_type": "code",
   "execution_count": null,
   "metadata": {},
   "outputs": [],
   "source": [
    "# remember, prms_dis was loaded from our shapefile\n",
    "plot = PrmsPlot(prms_dis)\n",
    "PrmsPlot"
   ]
  },
  {
   "cell_type": "markdown",
   "metadata": {},
   "source": [
    "## Plotting parameters\n",
    "\n",
    "the plotting functions use matplotlib and accept matplotlib keyword arguments. In addition a `masked_value` argument can be supplied to mask out certain values"
   ]
  },
  {
   "cell_type": "code",
   "execution_count": null,
   "metadata": {},
   "outputs": [],
   "source": [
    "plot = PrmsPlot(prms_dis)\n",
    "\n",
    "fig = plt.figure(figsize=(8, 6))\n",
    "\n",
    "# let's grab a parameter to plot\n",
    "ssr2gw = gs.prms.parameters.get_record(\"ssr2gw_rate\")\n",
    "\n",
    "# mask out 0 value and set the colormap to viridis\n",
    "ax = plot.plot_parameter(ssr2gw, masked_values=[0], cmap=\"viridis\")\n",
    "plt.colorbar(ax);"
   ]
  },
  {
   "cell_type": "markdown",
   "metadata": {},
   "source": [
    "### If a parameter has a dimension of nhru*12 we can plot that too:\n",
    "\n",
    "let's use `rain_adj` as an example, we automatically add the colorbar for these parameters so there is no need for the user to"
   ]
  },
  {
   "cell_type": "code",
   "execution_count": null,
   "metadata": {},
   "outputs": [],
   "source": [
    "rain_adj = gs.prms.parameters.get_record(\"rain_adj\")\n",
    "\n",
    "# mask out 0 value and set the colormap to viridis\n",
    "ax = plot.plot_parameter(rain_adj, masked_values=[0], cmap=\"jet\")"
   ]
  },
  {
   "cell_type": "markdown",
   "metadata": {},
   "source": [
    "## Contouring a parameter\n",
    "\n",
    "contouring a parameter is very easy using the `contour_parameter()` method. This method also accepts matplotlib keyword arguments for contouring and has a `masked_values` argument"
   ]
  },
  {
   "cell_type": "code",
   "execution_count": null,
   "metadata": {},
   "outputs": [],
   "source": [
    "plot = PrmsPlot(prms_dis)\n",
    "\n",
    "fig = plt.figure(figsize=(8, 6))\n",
    "\n",
    "# let's grab a parameter to plot\n",
    "ssr2gw = gs.prms.parameters.get_record(\"ssr2gw_rate\")\n",
    "\n",
    "# set the colormap to viridis\n",
    "ax = plot.contour_parameter(ssr2gw, cmap=\"viridis\")\n",
    "plt.colorbar(ax);"
   ]
  },
  {
   "cell_type": "markdown",
   "metadata": {},
   "source": [
    "### If a parameter has a dimension of nhru*12 we can contour that too:\n",
    "\n",
    "let's use `rain_adj` as an example, we automatically add a scale for these parameters so there is no need for the user to"
   ]
  },
  {
   "cell_type": "code",
   "execution_count": null,
   "metadata": {},
   "outputs": [],
   "source": [
    "rain_adj = gs.prms.parameters.get_record(\"rain_adj\")\n",
    "\n",
    "# mask out 0 value and set the colormap to viridis\n",
    "ax = plot.contour_parameter(rain_adj, masked_values=[0], cmap=\"jet\")"
   ]
  },
  {
   "cell_type": "markdown",
   "metadata": {},
   "source": [
    "## Plotting and Contouring external data\n",
    "\n",
    "`PrmsPlot` supports plotting and contouring external data with the `plot_array` and `contour_array` method. \n",
    "\n",
    "Of note: the array of data must be the same size as `nhru`"
   ]
  },
  {
   "cell_type": "code",
   "execution_count": null,
   "metadata": {},
   "outputs": [],
   "source": [
    "array = np.random.rand(prms_dis.nhru) * 10\n",
    "\n",
    "fig = plt.figure(figsize=(8, 6))\n",
    "plot = PrmsPlot(prms_dis)\n",
    "ax = plot.plot_array(array)\n",
    "plt.colorbar(ax);"
   ]
  },
  {
   "cell_type": "code",
   "execution_count": null,
   "metadata": {},
   "outputs": [],
   "source": [
    "fig = plt.figure(figsize=(8, 6))\n",
    "ax = plot.contour_array(array)\n",
    "plt.colorbar(ax);"
   ]
  },
  {
   "cell_type": "markdown",
   "metadata": {},
   "source": [
    "# The `PrmsPlot` class is compatible with flopy\n",
    "\n",
    "Plotting using `PrmsPlot` can be linked with flopy's `ModelMap` to create gsflow plots!\n",
    "\n",
    "Let's look at a basic example"
   ]
  },
  {
   "cell_type": "code",
   "execution_count": null,
   "metadata": {},
   "outputs": [],
   "source": [
    "import flopy as fp\n",
    "from flopy.plot import PlotMapView"
   ]
  },
  {
   "cell_type": "code",
   "execution_count": null,
   "metadata": {},
   "outputs": [],
   "source": [
    "fig = plt.figure(figsize=(12, 12))\n",
    "\n",
    "                 \n",
    "# get the gsflow modflow object and pass it to flopy's ModelMap\n",
    "ml = gs.mf\n",
    "ml.modelgrid.set_coord_info(xoff=prms_dis.extent[0], yoff=prms_dis.extent[2])\n",
    "m_map = PlotMapView(model=ml)\n",
    "m_map.plot_ibound()\n",
    "# get the current working matplotlib axes object\n",
    "flopy_ax = plt.gca()\n",
    "\n",
    "# let's grab a prms parameter to plot\n",
    "ssr2gw = gs.prms.parameters.get_record(\"ssr2gw_rate\")\n",
    "plot = PrmsPlot(prms_dis)\n",
    "# let's pass the flopy_ax to contour_parameter()\n",
    "ax = plot.contour_parameter(ssr2gw, ax=flopy_ax, masked_values=[0], cmap=\"viridis\", alpha=0.5)\n",
    "plt.title(\"PRMS ssr2gw_rate contour with MODFLOW IBOUND array and CHD cells\")\n",
    "plt.colorbar(ax, shrink=0.75);"
   ]
  },
  {
   "cell_type": "code",
   "execution_count": null,
   "metadata": {},
   "outputs": [],
   "source": []
  }
 ],
 "metadata": {
  "kernelspec": {
   "display_name": "Python 3",
   "language": "python",
   "name": "python3"
  },
  "language_info": {
   "codemirror_mode": {
    "name": "ipython",
    "version": 3
   },
   "file_extension": ".py",
   "mimetype": "text/x-python",
   "name": "python",
   "nbconvert_exporter": "python",
   "pygments_lexer": "ipython3",
   "version": "3.7.4"
  }
 },
 "nbformat": 4,
 "nbformat_minor": 2
}
