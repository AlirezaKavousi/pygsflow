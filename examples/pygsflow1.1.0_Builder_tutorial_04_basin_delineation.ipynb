{
 "cells": [
  {
   "cell_type": "markdown",
   "metadata": {},
   "source": [
    "# Builder Tutorial number 4\n",
    "\n",
    "The builder tutorials demonstrate how to build an operational GSFLOW model using `pyGSFLOW` from shapefile, DEM, and other common data sources. These tutorials focus on the `gsflow.builder` classes.\n",
    "\n",
    "## Performing watershed (basin) delineation and subbasin delineation\n",
    "\n",
    "In this tutorial, we demonstrate how to perform watershed and subbasin delineation to define model boundaries and contributing area zones (subbasins). Performing watershed delineation is necessary for building an operational GSFLOW model. Subbasin delineation is an optional, but useful method that allows users to isolate contributing areas."
   ]
  },
  {
   "cell_type": "code",
   "execution_count": 1,
   "metadata": {},
   "outputs": [],
   "source": [
    "import os\n",
    "import shapefile\n",
    "import matplotlib.pyplot as plt\n",
    "import matplotlib.colors as mcolors\n",
    "import numpy as np\n",
    "import flopy\n",
    "from gsflow.builder import GenerateFishnet"
   ]
  },
  {
   "cell_type": "markdown",
   "metadata": {},
   "source": [
    "### The `FlowAccumulation` class (refresher)\n",
    "\n",
    "The `FlowAccumulation` class performs many operations including generating flow direction arrays and flow accumulation arrays. This example notebook focuses is on the `flow_direction` and `flow_accumulation` methods of this class. Other methods are presented in following tutorials.\n",
    "\n",
    "The `FlowAccumulation` class has 3 required parameters and 5 optional input parameters:  \n",
    "\n",
    "**REQUIRED Parameters**\n",
    "   - `data` : resampled dem data array of dimension nrow, ncol (matches modelgrid dimension)\n",
    "   - `xcenters` : a two dimensional array of x coordinate cell centers (dimension nrow, ncol)\n",
    "   - `ycenters` : a two dimensional array of y coordinate cell centers (dimension nrow, ncol)\n",
    "\n",
    "**OPTIONAL Parameters**\n",
    "   - `acc_type` : flow accumlation type, currently only \"d8\" is supported\n",
    "   - `hru_type` : optional hru_type array where 0=inactive, 1=land, 2=lake, and 3=swale\n",
    "   - `closed_basin` : If true hru_type 2 is used in the flow direction calculations. False ignores hru_type 2. Default is False.\n",
    "   - `flow_dir_array` : previously calculated flow direction array. This parameter is used to restart the class without performing flow direction analysis\n",
    "   - `verbose` : boolean flag to print verbose output\n",
    "\n",
    "Let's start with importing the class."
   ]
  },
  {
   "cell_type": "code",
   "execution_count": 2,
   "metadata": {},
   "outputs": [],
   "source": [
    "from gsflow.builder import FlowAccumulation"
   ]
  },
  {
   "cell_type": "markdown",
   "metadata": {},
   "source": [
    "## Applying the methods to the Sagehen 50m example problem\n",
    "\n",
    "In this example the methods are applied directly to the Sagehen 50m model as they are presented."
   ]
  },
  {
   "cell_type": "code",
   "execution_count": 3,
   "metadata": {},
   "outputs": [],
   "source": [
    "# define the input and output data paths\n",
    "input_ws = os.path.join(\"data\", \"sagehen\", \"50m_tutorials\")\n",
    "shp_ws = os.path.join(\"data\", \"geospatial\")\n",
    "output_ws = os.path.join(\"data\", \"temp\")\n",
    "\n",
    "# define the modelgrid and resampled DEM data paths\n",
    "mg_file = os.path.join(input_ws, \"sagehen_50m_grid.bin\")\n",
    "dem_data = os.path.join(input_ws, \"sagehen_50m_dem.txt\")\n",
    "\n",
    "# define the flow direction and flow accumulation data paths\n",
    "flowdir_file = os.path.join(input_ws, \"sagehen_50m_flowdir.txt\")\n",
    "flowacc_file = os.path.join(input_ws, \"sagehen_50m_flowacc.txt\")\n",
    "\n",
    "# shapefile pour point\n",
    "shp_file = os.path.join(shp_ws, \"model_points.shp\")"
   ]
  },
  {
   "cell_type": "markdown",
   "metadata": {},
   "source": [
    "Load the previously processed data"
   ]
  },
  {
   "cell_type": "code",
   "execution_count": 4,
   "metadata": {},
   "outputs": [],
   "source": [
    "# load modelgrid, dem, flow directions, and flow accumulation\n",
    "modelgrid = GenerateFishnet.load_from_file(mg_file)\n",
    "dem_data = np.genfromtxt(dem_data)\n",
    "flow_directions = np.genfromtxt(flowdir_file, dtype=float)\n",
    "flow_accumulation = np.genfromtxt(flowacc_file)"
   ]
  },
  {
   "cell_type": "markdown",
   "metadata": {},
   "source": [
    "### Restarting the `FlowAccumulation` class from existing data\n",
    "\n",
    "In this tutorial series, the flow direction and flow accumulation calculations were performed in the previous builder tutorial. Instead of re-running these calculations, which can be time consuming for very large models, we can provide the saved flow direction array to the class as a way of restarting the solution.\n",
    "\n",
    "To restart from the previous solution, the saved flow direction array is passed to the `flow_dir_array` parameter during instantiation as shown in this example"
   ]
  },
  {
   "cell_type": "code",
   "execution_count": 5,
   "metadata": {},
   "outputs": [],
   "source": [
    "fa = FlowAccumulation(\n",
    "    dem_data,\n",
    "    modelgrid.xcellcenters,\n",
    "    modelgrid.ycellcenters,\n",
    "    flow_dir_array=flow_directions,\n",
    "    verbose=True\n",
    ")"
   ]
  },
  {
   "cell_type": "markdown",
   "metadata": {},
   "source": [
    "Now the `FlowAccumulation` object is ready to perform basin and subbasin deliniation."
   ]
  },
  {
   "cell_type": "markdown",
   "metadata": {},
   "source": [
    "### Watershed (basin) Delineation\n",
    "\n",
    "The watershed (basin) delineation routine uses information from the stored flow direction array to map watershed boundaries based on topographical divides within the watershed. This method is not automatic, and gives the user flexibility to define the basin outlet in which the watershed will be defined from.\n",
    "\n",
    "The `define_watershed` method performs watershed deliniation and has the following parameters:\n",
    "   - `pour_point` : three seperate input methods can be used to define the pour point as described below\n",
    "      - list of [(xcoordinate, ycoordinate)] location that define the pour point\n",
    "      - list of [(row, column)] location that define the pour point\n",
    "      - shapefile name, file contains a single pour point that defines the basin outlet\n",
    "   - `modelgrid` : modelgrid instance from `GenerateFishnet` (flopy.discretization.StructuredGrid object)\n",
    "   - `fmt` : format of pour point input (\"xy\" for xy coordinates, \"rowcol\" for row column, \"shp\" for shapefile)\n",
    "   \n",
    "This example demonstrates how to use an xy coordinate that is extracted from an existing shapefile point. "
   ]
  },
  {
   "cell_type": "code",
   "execution_count": 6,
   "metadata": {},
   "outputs": [
    {
     "name": "stdout",
     "output_type": "stream",
     "text": [
      "[[221298.4058475063, 4369674.979622432]]\n"
     ]
    }
   ],
   "source": [
    "# read in our pour point from a shapefile as an xy coordinate\n",
    "with shapefile.Reader(shp_file) as r:\n",
    "    shape = r.shape(0)\n",
    "    pour_point = shape.points\n",
    "\n",
    "print(pour_point)"
   ]
  },
  {
   "cell_type": "markdown",
   "metadata": {},
   "source": [
    "Now that the pour point is loaded, watershed delineation can be run using `define_watershed()`"
   ]
  },
  {
   "cell_type": "code",
   "execution_count": 7,
   "metadata": {},
   "outputs": [
    {
     "name": "stderr",
     "output_type": "stream",
     "text": [
      "structuredgrid.py:777: UserWarning: The interface 'intersect(self, x, y, local=False, forgive=False)' has been deprecated. Use the intersect(self, x, y, z=None, local=False, forgive=False) interface instead.\n",
      "structuredgrid.py:777: UserWarning: The interface 'intersect(self, x, y, local=False, forgive=False)' has been deprecated. Use the intersect(self, x, y, z=None, local=False, forgive=False) interface instead.\n"
     ]
    }
   ],
   "source": [
    "watershed = fa.define_watershed(pour_point, modelgrid, fmt=\"xy\")"
   ]
  },
  {
   "cell_type": "markdown",
   "metadata": {},
   "source": [
    "Now the watershed has been generated and it can be inspected"
   ]
  },
  {
   "cell_type": "code",
   "execution_count": 8,
   "metadata": {},
   "outputs": [
    {
     "data": {
      "image/png": "[encoded data removed]",
      "text/plain": [
       "<Figure size 864x864 with 2 Axes>"
      ]
     },
     "metadata": {
      "needs_background": "light"
     },
     "output_type": "display_data"
    }
   ],
   "source": [
    "fig = plt.figure(figsize=(12, 12))\n",
    "ax = fig.add_subplot(1, 1, 1, aspect=\"equal\")\n",
    "\n",
    "pmv = flopy.plot.PlotMapView(modelgrid=modelgrid, ax=ax)\n",
    "pc = pmv.plot_array(\n",
    "    watershed, vmin=0, vmax=1,\n",
    ")\n",
    "plt.plot(*pour_point[0], 'bo')\n",
    "plt.colorbar(pc, shrink=0.7)\n",
    "plt.title(\"Sagehen 50m watershed delineation (yellow=active)\")\n",
    "plt.show();"
   ]
  },
  {
   "cell_type": "markdown",
   "metadata": {},
   "source": [
    "### Subbasin delineation\n",
    "\n",
    "Subbasin delineation can be performed in much the same way as watershed delineation.Once again,  this method is not automatic, and gives the user flexibility to define the subbasin outlets in which the watershed will be defined from. The benefit of this approach is that the user can identify areas of interest and/or define subbasins based on existing stream gages to isolate the contributing areas to that particular area.\n",
    "\n",
    "The `define_subbasins()` method performs subbasin delineation and has the following input parameters:\n",
    "   - `pour_points` : three seperate input methods can be used to define the pour points as described below\n",
    "      - list of [(xcoordinate0, ycoordinate0),...(xcoordinaten, ycoordinaten] locations that define the pour points\n",
    "      - list of [(row0, column0),...(rown, columnn)] locations that define the pour points\n",
    "      - shapefile name, file contains pour points that define the subbasin outlets\n",
    "   - `modelgrid` : modelgrid instance from `GenerateFishnet` (flopy.discretization.StructuredGrid object)\n",
    "   - `fmt` : format of pour point input (\"xy\" for xy coordinates, \"rowcol\" for row column, \"shp\" for shapefile)\n",
    "\n",
    "\n",
    "*Note: this example is for illustrative puposes only and is not applied to the operational Sagehen 50m model.*"
   ]
  },
  {
   "cell_type": "code",
   "execution_count": 9,
   "metadata": {},
   "outputs": [
    {
     "name": "stderr",
     "output_type": "stream",
     "text": [
      "structuredgrid.py:777: UserWarning: The interface 'intersect(self, x, y, local=False, forgive=False)' has been deprecated. Use the intersect(self, x, y, z=None, local=False, forgive=False) interface instead.\n"
     ]
    },
    {
     "data": {
      "text/plain": [
       "[(64, 71), (69, 67), (73, 118), (76, 140)]"
      ]
     },
     "execution_count": 9,
     "metadata": {},
     "output_type": "execute_result"
    }
   ],
   "source": [
    "# Let's create some pour point data!\n",
    "pour_points = []\n",
    "# add our watershed outlet as row column location\n",
    "pour_points.append(modelgrid.intersect(pour_point[0][0], pour_point[0][1]))\n",
    "pour_points += [(73, 118), (69, 67), (64, 71)]\n",
    "pour_points[::-1]"
   ]
  },
  {
   "cell_type": "markdown",
   "metadata": {},
   "source": [
    "Now define the subbasins using the \"rowcol\" fmt for pour points"
   ]
  },
  {
   "cell_type": "code",
   "execution_count": 10,
   "metadata": {},
   "outputs": [],
   "source": [
    "subbasins = fa.define_subbasins(\n",
    "    pour_points,\n",
    "    modelgrid,\n",
    "    fmt=\"rowcol\"\n",
    ")"
   ]
  },
  {
   "cell_type": "markdown",
   "metadata": {},
   "source": [
    "Now the subbasins have been generated and can be inspected"
   ]
  },
  {
   "cell_type": "code",
   "execution_count": 11,
   "metadata": {},
   "outputs": [
    {
     "data": {
      "image/png": "[encoded data removed]",
      "text/plain": [
       "<Figure size 864x864 with 2 Axes>"
      ]
     },
     "metadata": {
      "needs_background": "light"
     },
     "output_type": "display_data"
    }
   ],
   "source": [
    "fig = plt.figure(figsize=(12, 12))\n",
    "ax = fig.add_subplot(1, 1, 1, aspect=\"equal\")\n",
    "\n",
    "pmv = flopy.plot.PlotMapView(modelgrid=modelgrid, ax=ax)\n",
    "pc = pmv.plot_array(\n",
    "    subbasins, vmin=0, vmax=4, masked_values=[0,]\n",
    ")\n",
    "for r, c in pour_points:\n",
    "    xc, yc = modelgrid.xcellcenters[r, c], modelgrid.ycellcenters[r, c]\n",
    "    plt.plot(xc, yc, 'ko', ms=4)\n",
    "plt.colorbar(pc, shrink=0.7)\n",
    "plt.title(\"Sagehen 50m subbasin delineation\")\n",
    "plt.show();"
   ]
  },
  {
   "cell_type": "markdown",
   "metadata": {},
   "source": [
    "## Saving the watershed delineation and subbasin delineation arrays for later use\n",
    "\n",
    "The builder methods allow the user to save the watershed and subbasin delineation arrays and pick up where they left off in another session or script.\n",
    "\n",
    "These arrays can be saved using numpy's `savetxt()` method.\n",
    "\n",
    "*In the next tutorial we will load the watershed delineation and pick up from where we left off*"
   ]
  },
  {
   "cell_type": "code",
   "execution_count": 12,
   "metadata": {},
   "outputs": [],
   "source": [
    "np.savetxt(\n",
    "    os.path.join(output_ws, \"sagehen_50m_watershed.txt\"),\n",
    "    watershed.astype(int),\n",
    "    delimiter=\"  \",\n",
    "    fmt=\"%d\"\n",
    ")\n",
    "\n",
    "np.savetxt(\n",
    "    os.path.join(output_ws, \"sagehen_50m_subbasin.txt\"),\n",
    "    subbasins.astype(int),\n",
    "    delimiter=\"  \",\n",
    "    fmt=\"%d\"\n",
    ")"
   ]
  },
  {
   "cell_type": "code",
   "execution_count": null,
   "metadata": {},
   "outputs": [],
   "source": []
  }
 ],
 "metadata": {
  "kernelspec": {
   "display_name": "Python 3",
   "language": "python",
   "name": "python3"
  },
  "language_info": {
   "codemirror_mode": {
    "name": "ipython",
    "version": 3
   },
   "file_extension": ".py",
   "mimetype": "text/x-python",
   "name": "python",
   "nbconvert_exporter": "python",
   "pygments_lexer": "ipython3",
   "version": "3.7.4"
  }
 },
 "nbformat": 4,
 "nbformat_minor": 2
}
