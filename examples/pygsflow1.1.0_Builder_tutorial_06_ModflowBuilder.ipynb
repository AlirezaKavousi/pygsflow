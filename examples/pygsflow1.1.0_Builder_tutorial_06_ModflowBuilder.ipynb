{
 "cells": [
  {
   "cell_type": "markdown",
   "metadata": {},
   "source": [
    "# Builder Tutorial number 6\n",
    "\n",
    "The builder tutorials demonstrate how to build an operational GSFLOW model using `pyGSFLOW` from shapefile, DEM, and other common data sources. These tutorials focus on the `gsflow.builder` classes.\n",
    "\n",
    "## Building modflow input files\n",
    "\n",
    "In this tutorial, we demonstrate how to build modflow input files for GSFLOW and MODFLOW-NWT models. The building method relies on a number of defaults stored within pyGSFLOW, which allows the user to 1) rapidly generate a basic Modflow model, and 2) later adjust it using pyGSFLOW and FloPy functionality. "
   ]
  },
  {
   "cell_type": "code",
   "execution_count": 1,
   "metadata": {},
   "outputs": [],
   "source": [
    "import os\n",
    "import shapefile\n",
    "import matplotlib.pyplot as plt\n",
    "import matplotlib.colors as mcolors\n",
    "import numpy as np\n",
    "import flopy\n",
    "import platform\n",
    "from gsflow.builder import GenerateFishnet, FlowAccumulation"
   ]
  },
  {
   "cell_type": "markdown",
   "metadata": {},
   "source": [
    "### The `ModflowBuilder` class\n",
    "\n",
    "The `ModflowBuilder` class builds a steady state MODFLOW-NWT model from pyGSFLOW default MODFLOW parameter values and user supplied information. This class has support to build MODFLOW's DIS, BAS6, UPW, NWT, OC, UZF, and SFR packages, either individually or bundled together as a `gsflow.modflow.Modflow` object.\n",
    "\n",
    "The `ModflowBuilder` class has 3 required parameters and one optional parameter:\n",
    "   \n",
    "**REQUIRED parameters**\n",
    "   - `modelgrid` : modelgrid instance from GenerateFishnet (flopy.discretization.StructuredGrid object)\n",
    "   - `dem_data` : numpy array of resampled DEM map data\n",
    "   - `model_name` : name of the model to build\n",
    "   \n",
    "**OPTIONAL parameters**\n",
    "   - `defaults` : optional parameter, user can supply a gsflow.builder.Defaults instance to ModflowBuilder to use a custom set of default values\n",
    "   \n",
    "Let's start by importing the class"
   ]
  },
  {
   "cell_type": "code",
   "execution_count": 2,
   "metadata": {},
   "outputs": [],
   "source": [
    "from gsflow.builder import ModflowBuilder"
   ]
  },
  {
   "cell_type": "markdown",
   "metadata": {},
   "source": [
    "## Applying the methods to the Sagehen 50m example problem\n",
    "\n",
    "In this example the methods are applied directly to the Sagehen 50m model as they are presented."
   ]
  },
  {
   "cell_type": "code",
   "execution_count": 3,
   "metadata": {},
   "outputs": [],
   "source": [
    "# define the input and output data paths\n",
    "input_ws = os.path.join(\"data\", \"sagehen\", \"50m_tutorials\")\n",
    "output_ws = os.path.join(\"data\", \"temp\")\n",
    "\n",
    "# define the modelgrid and resampled DEM data paths\n",
    "mg_file = os.path.join(input_ws, \"sagehen_50m_grid.bin\")\n",
    "dem_data = os.path.join(input_ws, \"sagehen_50m_dem.txt\")\n",
    "\n",
    "# define the watershed data path\n",
    "watershed_file = os.path.join(input_ws, \"sagehen_50m_watershed.txt\")\n",
    "\n",
    "# define the stream information binary data path\n",
    "stream_file = os.path.join(input_ws, \"sagehen_50m_streams.bin\")"
   ]
  },
  {
   "cell_type": "markdown",
   "metadata": {},
   "source": [
    "Load the previously processed data"
   ]
  },
  {
   "cell_type": "code",
   "execution_count": 4,
   "metadata": {},
   "outputs": [],
   "source": [
    "# load modelgrid, dem, watershed, and stream information file\n",
    "modelgrid = GenerateFishnet.load_from_file(mg_file)\n",
    "dem_data = np.genfromtxt(dem_data)\n",
    "watershed = np.genfromtxt(watershed_file, dtype=int)\n",
    "strm_obj = FlowAccumulation.load_streams(stream_file)"
   ]
  },
  {
   "cell_type": "markdown",
   "metadata": {},
   "source": [
    "#### Now that the modelgrid, resampled dem, watershed, and streamflow information has been loaded. `ModflowBuilder` can be instantiated\n",
    "\n",
    "In this example only the required parameters are supplied to `ModflowBuilder` on instantiation and the built in `Defaults` will be used to create the initial iteration of the Sagehen 50m model."
   ]
  },
  {
   "cell_type": "code",
   "execution_count": 5,
   "metadata": {},
   "outputs": [],
   "source": [
    "mfbuild = ModflowBuilder(modelgrid, dem_data, \"sagehen_50m\")"
   ]
  },
  {
   "cell_type": "markdown",
   "metadata": {},
   "source": [
    "### Creating individual packages with `ModflowBuilder`\n",
    "\n",
    "Individual packages can be created with the `ModflowBuilder` object and they are added to the base model object contained within the `ModflowBuilder` class. \n",
    "\n",
    "This section will step through how to build each individual package"
   ]
  },
  {
   "cell_type": "markdown",
   "metadata": {},
   "source": [
    "#### Building the DIS object\n",
    "\n",
    "The `build_dis` method allows the user to build a 1 layer steady state model DIS file with the built in defaults.\n",
    "\n",
    "The `build_dis` method has one optional parameter:\n",
    "   - `botm` : numpy array that defines the cell bottom elevations (defaults to 50 model units less than model top)\n",
    "   \n",
    "Here is an example"
   ]
  },
  {
   "cell_type": "code",
   "execution_count": 6,
   "metadata": {},
   "outputs": [
    {
     "name": "stdout",
     "output_type": "stream",
     "text": [
      "<class 'flopy.modflow.mfdis.ModflowDis'>\n"
     ]
    }
   ],
   "source": [
    "# set the botm elevation to be 100 m less than the top\n",
    "botm = dem_data - 100\n",
    "botm.shape = (1, modelgrid.nrow, modelgrid.ncol)\n",
    "\n",
    "# build a DIS file\n",
    "dis = mfbuild.build_dis(botm=botm)\n",
    "print(type(dis))"
   ]
  },
  {
   "cell_type": "markdown",
   "metadata": {},
   "source": [
    "#### Building the BAS object\n",
    "\n",
    "The `build_bas` method allows the user to create a BAS package for their model.\n",
    "\n",
    "The `build_bas` method has one optional parameter:\n",
    "   - `ibound` : numpy array that defines the active and inactive cells in model (defaults to all cells active)\n",
    "\n",
    "Here is an example"
   ]
  },
  {
   "cell_type": "code",
   "execution_count": 7,
   "metadata": {},
   "outputs": [
    {
     "name": "stdout",
     "output_type": "stream",
     "text": [
      "<class 'flopy.modflow.mfbas.ModflowBas'>\n"
     ]
    }
   ],
   "source": [
    "bas6 = mfbuild.build_bas6(ibound=watershed)\n",
    "print(type(bas6))"
   ]
  },
  {
   "cell_type": "markdown",
   "metadata": {},
   "source": [
    "#### Building the UPW object\n",
    "\n",
    "The `build_upw` method allows the user to create a UPW package for their model from builder defaults. The model is built with unconfined conditions.\n",
    "\n",
    "Here is an example"
   ]
  },
  {
   "cell_type": "code",
   "execution_count": 8,
   "metadata": {},
   "outputs": [
    {
     "name": "stdout",
     "output_type": "stream",
     "text": [
      "<class 'flopy.modflow.mfupw.ModflowUpw'>\n"
     ]
    }
   ],
   "source": [
    "upw = mfbuild.build_upw()\n",
    "print(type(upw))"
   ]
  },
  {
   "cell_type": "markdown",
   "metadata": {},
   "source": [
    "#### Building the NWT object\n",
    "\n",
    "The `build_nwt` method allows the user to create a NWT package for their model from builder defaults. The package is built with modflow NWT defaults and \"Simple\" complexity.\n",
    "\n",
    "Here is an example"
   ]
  },
  {
   "cell_type": "code",
   "execution_count": 9,
   "metadata": {},
   "outputs": [
    {
     "name": "stdout",
     "output_type": "stream",
     "text": [
      "<class 'flopy.modflow.mfnwt.ModflowNwt'>\n"
     ]
    }
   ],
   "source": [
    "nwt = mfbuild.build_nwt()\n",
    "print(type(nwt))"
   ]
  },
  {
   "cell_type": "markdown",
   "metadata": {},
   "source": [
    "#### Building the OC object\n",
    "\n",
    "The `build_oc` method allows the user to create a OC package for their model from builder defaults. The package is built to write data to a binary head file and a binary cell budget file at the end of the steady state simulation.\n",
    "\n",
    "Here is an example"
   ]
  },
  {
   "cell_type": "code",
   "execution_count": 10,
   "metadata": {},
   "outputs": [
    {
     "name": "stdout",
     "output_type": "stream",
     "text": [
      "<class 'flopy.modflow.mfoc.ModflowOc'>\n"
     ]
    }
   ],
   "source": [
    "oc = mfbuild.build_oc()\n",
    "print(type(oc))"
   ]
  },
  {
   "cell_type": "markdown",
   "metadata": {},
   "source": [
    "#### Building the UZF object\n",
    "\n",
    "The `build_uzf` method allows the user to create a UZF package for their model from builder defaults.\n",
    "\n",
    "The `build_uzf` method has one required parameter and two optional parameters:\n",
    "\n",
    "**REQUIRED parameters**\n",
    "   - `irunbnd` : array containing segment number that each individual cell provides runoff to.\n",
    "   \n",
    "**OPTIONAL parameters**\n",
    "   - `finf` : optional direct recharge array information, defaults to 1e-08\n",
    "   - `iuzfbnd` : optional active inactive uzf cell information, defaults to all cells active\n",
    "\n",
    "Here is an example using all listed parameters"
   ]
  },
  {
   "cell_type": "code",
   "execution_count": 11,
   "metadata": {},
   "outputs": [
    {
     "name": "stdout",
     "output_type": "stream",
     "text": [
      "<class 'flopy.modflow.mfuzf1.ModflowUzf1'>\n"
     ]
    }
   ],
   "source": [
    "uzf = mfbuild.build_uzf(\n",
    "    strm_obj.irunbnd,\n",
    "    finf=np.ones(dem_data.shape),\n",
    "    iuzfbnd=watershed\n",
    ")\n",
    "print(type(uzf))"
   ]
  },
  {
   "cell_type": "markdown",
   "metadata": {},
   "source": [
    "#### Building the SFR object\n",
    "\n",
    "The `build_sfr` method allows the user to create an SFR package for their model from builder defaults and previously calculated stream connectivity information.\n",
    "\n",
    "The `build_sfr` method has two required parameters that were created in the previous tutorial:\n",
    "   - `reach_data` : ModflowSfr2 compatible recarray of reach data (dataset 2 in the SFR documentation)\n",
    "   - `segment_data` : ModflowSfr2 compatible recarray of segment data (dataset 6 in the SFR documentation)\n",
    "   \n",
    "Here is an example of building the SFR package"
   ]
  },
  {
   "cell_type": "code",
   "execution_count": 12,
   "metadata": {},
   "outputs": [
    {
     "name": "stdout",
     "output_type": "stream",
     "text": [
      "<class 'flopy.modflow.mfsfr2.ModflowSfr2'>\n"
     ]
    }
   ],
   "source": [
    "sfr = mfbuild.build_sfr(\n",
    "    strm_obj.reach_data,\n",
    "    strm_obj.segment_data\n",
    ")\n",
    "print(type(sfr))"
   ]
  },
  {
   "cell_type": "markdown",
   "metadata": {},
   "source": [
    "#### Accessing the model object to write output to file\n",
    "\n",
    "The model object can be accessed through the `model` parameter on `ModflowBuilder`. This example shows how to access it and then write the model to file using FloPy's built in methods."
   ]
  },
  {
   "cell_type": "code",
   "execution_count": 13,
   "metadata": {},
   "outputs": [],
   "source": [
    "ml = mfbuild.model\n",
    "\n",
    "# change the path of the model\n",
    "ml.change_model_ws(output_ws)\n",
    "ml.write_input()"
   ]
  },
  {
   "cell_type": "markdown",
   "metadata": {},
   "source": [
    "## Building an entire model at once \n",
    "\n",
    "Instead of building each individaul package, the `ModflowBuilder` class has a `build_all` method that let's the user build all of the packages at once and returns a model to the user.\n",
    "\n",
    "The `build_all` method has 3 required parameters and 4 optional parameters\n",
    "\n",
    "**REQUIRED parameters**\n",
    "   - `reach_data` : ModflowSfr2 compatible recarray of reach data (dataset 2 in the SFR documentation)\n",
    "   - `segment_data` : ModflowSfr2 compatible recarray of segment data (dataset 6 in the SFR documentation)\n",
    "   - `irunbnd` : array containing segment number that each individual UZF cell provides runoff to.\n",
    "   \n",
    "**OPTIONAL parameters**\n",
    "   - `finf` : optional UZF direct recharge array information, defaults to 1e-08\n",
    "   - `botm` : numpy array that defines the cell bottom elevations (defaults to 50 model units less than model top)\n",
    "   - `ibound` : numpy array that defines the active and inactive cells in model (defaults to all cells active)\n",
    "   - `iuzfbnd` : optional active inactive UZF cell information, defaults to all cells active\n",
    "   \n",
    "In the following example, Sagehen 50m MODFLOW-NWT input files are created using all listed parameters"
   ]
  },
  {
   "cell_type": "code",
   "execution_count": 14,
   "metadata": {},
   "outputs": [
    {
     "name": "stdout",
     "output_type": "stream",
     "text": [
      "MODFLOW 1 layer(s) 138 row(s) 149 column(s) 1 stress period(s)\n"
     ]
    }
   ],
   "source": [
    "# create a new modflow builder object\n",
    "mfbuild = ModflowBuilder(modelgrid, dem_data, \"sagehen_50m\")\n",
    "\n",
    "# build the model\n",
    "ml = mfbuild.build_all(\n",
    "    strm_obj.reach_data,\n",
    "    strm_obj.segment_data,\n",
    "    strm_obj.irunbnd,\n",
    "    finf=np.ones(dem_data.shape),\n",
    "    botm=botm,\n",
    "    ibound=watershed,\n",
    "    iuzfbnd=watershed\n",
    ")\n",
    "\n",
    "print(ml)"
   ]
  },
  {
   "cell_type": "markdown",
   "metadata": {},
   "source": [
    "## Editing package objects\n",
    "\n",
    "Because the `ModflowBuilder` class uses many defaults to build MODFLOW packages the user may want to adjust parameter values or even add additional packages like the WEL package to the model.\n",
    "\n",
    "This section shows how to make adjustments to the DIS, SFR, and UPW packages. The example also converts the model from a steady state model to a two stress period model that contains a steady state stress period and a transient stress period.\n",
    "\n",
    "For further details beyond what's presented in this notebook on how to work with FloPy's model and package objects, please see the [FloPy examples](https://github.com/modflowpy/flopy/tree/develop/examples/Notebooks)."
   ]
  },
  {
   "cell_type": "markdown",
   "metadata": {},
   "source": [
    "### Updating the DIS object\n",
    "\n",
    "This example shows how to update the DIS object to a 2 stress period model using FloPy."
   ]
  },
  {
   "cell_type": "code",
   "execution_count": 15,
   "metadata": {},
   "outputs": [
    {
     "name": "stdout",
     "output_type": "stream",
     "text": [
      "MODFLOW 1 layer(s) 138 row(s) 149 column(s) 2 stress period(s)\n"
     ]
    }
   ],
   "source": [
    "# create data for perlen, nstp, tsmult, and the steady flag\n",
    "perlen = [1, 5356]\n",
    "nstp = [1, 5356]\n",
    "tsmult = [1, 1]\n",
    "steady = [True, False]\n",
    "\n",
    "flopy.modflow.ModflowDis(\n",
    "    ml,\n",
    "    nlay=ml.dis.nlay,\n",
    "    nrow=ml.dis.nrow,\n",
    "    ncol=ml.dis.ncol,\n",
    "    nper=2,\n",
    "    delr=ml.dis.delr,\n",
    "    delc=ml.dis.delc,\n",
    "    laycbd=ml.dis.laycbd,\n",
    "    top=ml.dis.top,\n",
    "    botm=ml.dis.botm,\n",
    "    perlen=perlen,\n",
    "    nstp=nstp,\n",
    "    tsmult=tsmult,\n",
    "    steady=steady,\n",
    "    itmuni=ml.dis.itmuni,\n",
    "    lenuni=ml.dis.lenuni\n",
    ")\n",
    "\n",
    "print(ml)"
   ]
  },
  {
   "cell_type": "markdown",
   "metadata": {},
   "source": [
    "Now we can see that the model has been updated to two stress periods"
   ]
  },
  {
   "cell_type": "markdown",
   "metadata": {},
   "source": [
    "### Updating the UPW object\n",
    "\n",
    "This example shows how to update hydrologic parameters in the UPW file and focuses on updating the HK (horizontal hydraulic conductivity) and the SS (specific storage) parameters. "
   ]
  },
  {
   "cell_type": "code",
   "execution_count": 16,
   "metadata": {},
   "outputs": [],
   "source": [
    "# update hk using a multiplier, current value is 10\n",
    "ml.upw.hk *= 1.75e-03\n",
    "\n",
    "# show how to update the ss using a multiplier, current value is 1e-06 and appropriate for this model\n",
    "ml.upw.ss *= 1.0"
   ]
  },
  {
   "cell_type": "markdown",
   "metadata": {},
   "source": [
    "### Updating SFR segment and reach data fields\n",
    "\n",
    "This example shows how to update some of the SFR segment and reach data fields for GSFLOW modeling. The two parameters we show in this example are `roughch` which is the manning's roughness coeficient and `strhc1` which is the stream bed conductance."
   ]
  },
  {
   "cell_type": "code",
   "execution_count": 17,
   "metadata": {},
   "outputs": [],
   "source": [
    "# update roughch in segment data\n",
    "ml.sfr.segment_data[0][\"roughch\"] = 0.04\n",
    "\n",
    "# update strhc1 in reach data\n",
    "ml.sfr.reach_data[\"strhc1\"] = 0.1"
   ]
  },
  {
   "cell_type": "markdown",
   "metadata": {},
   "source": [
    "### Setting the model's coordinate information\n",
    "\n",
    "This example shows how to set the modelgrid's coordinate information for later use in plotting and raster resampling in later notebooks"
   ]
  },
  {
   "cell_type": "code",
   "execution_count": 18,
   "metadata": {},
   "outputs": [],
   "source": [
    "# copy the coordinate information from the modelgrid we built in Tutorial 1\n",
    "ml.modelgrid.set_coord_info(\n",
    "    xoff=modelgrid.xoffset, \n",
    "    yoff=modelgrid.yoffset\n",
    ")"
   ]
  },
  {
   "cell_type": "markdown",
   "metadata": {},
   "source": [
    "### Writing the model to file\n",
    "\n",
    "This example shows how to write the model to file using FloPy's built in methods."
   ]
  },
  {
   "cell_type": "code",
   "execution_count": 19,
   "metadata": {},
   "outputs": [],
   "source": [
    "# change the path of the model and write to file\n",
    "ml.change_model_ws(output_ws)\n",
    "ml.write_input()"
   ]
  },
  {
   "cell_type": "markdown",
   "metadata": {},
   "source": [
    "### Running the model\n",
    "\n",
    "Now that the model is written, the user can test the single layer Sagehen 50m modflow model by running it using flopy's built in `run_model()` method. "
   ]
  },
  {
   "cell_type": "code",
   "execution_count": 20,
   "metadata": {},
   "outputs": [
    {
     "name": "stdout",
     "output_type": "stream",
     "text": [
      "True\n"
     ]
    }
   ],
   "source": [
    "# set the path to the mfnwt executable\n",
    "exe_name = os.path.join(\"..\", \"bin\", \"mfnwt\")\n",
    "if platform.system().lower() == \"windows\":\n",
    "    exe_name += \".exe\"\n",
    "\n",
    "ml.exe_name = exe_name\n",
    "success, buff = ml.run_model(silent=True)\n",
    "print(success)"
   ]
  },
  {
   "cell_type": "markdown",
   "metadata": {},
   "source": [
    "#### Inspecting output from the model\n",
    "\n",
    "A quick demonstration is shown on how to get head outputs from the binary ouput file and plot them for model inspection. For complete details on how to access modflow outputs using FloPy see the [FloPy examples](https://github.com/modflowpy/flopy/tree/develop/examples/Notebooks)."
   ]
  },
  {
   "cell_type": "code",
   "execution_count": 21,
   "metadata": {},
   "outputs": [],
   "source": [
    "# define the headfile path\n",
    "head_file = os.path.join(output_ws, \"sagehen_50m.hds\")\n",
    "\n",
    "# load the headfile\n",
    "hds = flopy.utils.HeadFile(head_file)\n",
    "\n",
    "# get data\n",
    "heads = hds.get_alldata()[-1]"
   ]
  },
  {
   "cell_type": "markdown",
   "metadata": {},
   "source": [
    "Now that the head data has been loaded, it can be plotted for inspection."
   ]
  },
  {
   "cell_type": "code",
   "execution_count": 22,
   "metadata": {},
   "outputs": [
    {
     "data": {
      "image/png": "[encoded data removed]",
      "text/plain": [
       "<Figure size 864x864 with 2 Axes>"
      ]
     },
     "metadata": {
      "needs_background": "light"
     },
     "output_type": "display_data"
    }
   ],
   "source": [
    "fig = plt.figure(figsize=(12, 12))\n",
    "ax = fig.add_subplot(1, 1, 1, aspect=\"equal\")\n",
    "\n",
    "pmv = flopy.plot.PlotMapView(model=ml, ax=ax)\n",
    "pc = pmv.plot_array(heads)\n",
    "ib = pmv.plot_inactive()\n",
    "plt.colorbar(pc, shrink=0.7)\n",
    "plt.title(\"Sagehen 50m modflow-nwt heads\");"
   ]
  },
  {
   "cell_type": "markdown",
   "metadata": {},
   "source": [
    "## Final considerations for GSFLOW model\n",
    "\n",
    "One additional SFR parameter needs to be adjusted before the groundwater model is ready to be added to GSFLOW. The SFR segment data parameter \"flow\" which defines inflow to a stream segment should be adjusted to zero as flow will be calculated by PRMS.\n",
    "\n",
    "After making this final adjustment, the model is written to file and will be ready to add to a GSFLOW model in a later tutorial."
   ]
  },
  {
   "cell_type": "code",
   "execution_count": 23,
   "metadata": {},
   "outputs": [],
   "source": [
    "# adjust SFR flow parameter to zero\n",
    "ml.sfr.segment_data[0][\"flow\"] *= 0 \n",
    "\n",
    "# write the model to file\n",
    "ml.write_input()"
   ]
  },
  {
   "cell_type": "code",
   "execution_count": null,
   "metadata": {},
   "outputs": [],
   "source": []
  }
 ],
 "metadata": {
  "kernelspec": {
   "display_name": "Python 3",
   "language": "python",
   "name": "python3"
  },
  "language_info": {
   "codemirror_mode": {
    "name": "ipython",
    "version": 3
   },
   "file_extension": ".py",
   "mimetype": "text/x-python",
   "name": "python",
   "nbconvert_exporter": "python",
   "pygments_lexer": "ipython3",
   "version": "3.7.4"
  }
 },
 "nbformat": 4,
 "nbformat_minor": 2
}
