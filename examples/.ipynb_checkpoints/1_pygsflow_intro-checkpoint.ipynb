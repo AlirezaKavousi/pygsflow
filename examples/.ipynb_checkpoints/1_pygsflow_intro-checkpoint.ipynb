{
 "cells": [
  {
   "cell_type": "markdown",
   "metadata": {},
   "source": [
    " <img src=\".\\figures\\motto2.png\">\n",
    " \n",
    "https://github.com/usgs-pygsflow/pygsflow\n",
    " \n",
    "# Introduction to PyGSFLOW\n",
    "\n",
    "Simulating integrated hydrological systems requires working with a large set of input parameters and output variables that are saved in several files. Thus, changing input parameters and reading output can be laborious task. This is particularly true in  model calibration and sensitivity and uncertainty analysis. PyGSFLOW allows modeler to focus on the hydrologic aspect of the problem as it simplifies most of modeling operations such as modifying model input files, running the model, and reading and processing the model. PyGSFLOW uses Flopy to work with MODFLOW files.   In this exercise  we will illustrate the basic elements of PyGSFLOW; and in the next exercise we will demonstrate how it can be used to achieve fairly complex tasks using small number of commands. \n"
   ]
  },
  {
   "cell_type": "code",
   "execution_count": null,
   "metadata": {},
   "outputs": [],
   "source": [
    "# This cell should be run only once to install pyGSFLOW package. After installation replace True with\n",
    "# False, or remove the current cell.\n",
    "try:\n",
    "    import gsflow\n",
    "except ImportError:\n",
    "    import os, sys\n",
    "    import subprocess\n",
    "    python_exe = sys.executable\n",
    "    current_dir = os.getcwd()\n",
    "    package_location = \"..\"\n",
    "    os.chdir(package_location)\n",
    "    cmd = python_exe + \" setup.py install\"\n",
    "    result = subprocess.check_output(cmd, shell=True)\n",
    "    os.chdir(current_dir)\n",
    "    print(result)"
   ]
  },
  {
   "cell_type": "code",
   "execution_count": null,
   "metadata": {},
   "outputs": [],
   "source": [
    "from gsflow import GsflowModel  # Make sure that Gsflow class is imported. \n",
    "import os, sys\n",
    "import matplotlib.pyplot as plt"
   ]
  },
  {
   "cell_type": "markdown",
   "metadata": {},
   "source": [
    "## pyGSFLOW in a nutshell\n",
    "pyGSFLOW consists of three main components (See Figures below). These components are: (1) Control class, (2) a PRMS class, and (3) Flopy package.The Control class handles operations and information related the control file. The PRMS objects consists of a number of other classes such as :\n",
    "    \n",
    "    (1) the Parameters Class that handles all GSFLOW parameters that can be saved in one (or more) files,\n",
    "    (2) the Data class that handles Climate Data information.\n",
    "    (3) The output class that handles some of GSFLOW output. \n",
    " \n",
    " The well know Flopy package (under mf class in pyGSFLOW) is used to handle data and operations related to MODFLOW. \n",
    " <img src=\".\\figures\\pyGSFLOW_processes.png\">\n",
    " \n",
    " ### Accessing Data in pyGSFLOW -- The Big Picture\n",
    " To access any piece information within the GSFLOW model we will be using class names to navigates subclasses starting from the main class Gsflow. The following figure illustrates how this can be accomplished\n",
    " \n",
    "  <img src=\".\\figures\\pyGSFLOW_processes2.png\">\n",
    "  \n",
    " \n",
    " \n"
   ]
  },
  {
   "cell_type": "markdown",
   "metadata": {},
   "source": [
    "<img src=\".\\figures\\warning.png\"> WARNING: PyGSLFOW is a new package that is still under development. Some of the features that are not supported includes:\n",
    "(1) Reading and processing animation files and PRMS budget files,\n",
    "(2) Tools to check for errors in input files. \n",
    "\n",
    "https://github.com/usgs-pygsflow/pygsflow\n"
   ]
  },
  {
   "cell_type": "markdown",
   "metadata": {},
   "source": [
    "## Exercise \n",
    "### (1) Loading an existing GSFLOW project \n",
    "Let us start by loading an existing GSFLOW project. To do so we need to pass the control file to the Gsflow\n",
    " class that will upload information from model input files."
   ]
  },
  {
   "cell_type": "code",
   "execution_count": null,
   "metadata": {},
   "outputs": [],
   "source": [
    "control_file = os.path.join(\".\", \"data\", \"sagehen\", \"prms\", \"windows\", \"sagehen.control\")\n",
    "gs = GsflowModel.load_from_file(control_file=control_file)\n"
   ]
  },
  {
   "cell_type": "markdown",
   "metadata": {},
   "source": [
    "### (2) Access data in GSFLOW inputs\n",
    "The \"gs\" variable in the previous cell is a name for the object that holds information about the two components of GSFLOW : PRMS and MODFLOW. \n",
    "\n",
    "### (2.a) Control Class \n",
    "To access control information you can do something like\n",
    "\n",
    "gs.control.SOMEFUNCTION()\n",
    "\n",
    "For example, to get a list of records in a control file ..."
   ]
  },
  {
   "cell_type": "code",
   "execution_count": null,
   "metadata": {},
   "outputs": [],
   "source": [
    "gs.control.record_names"
   ]
  },
  {
   "cell_type": "code",
   "execution_count": null,
   "metadata": {},
   "outputs": [],
   "source": [
    "# Assuming that we are interested in looking closer into ET Module \n",
    "et_module = gs.control.get_record('et_module')"
   ]
  },
  {
   "cell_type": "code",
   "execution_count": null,
   "metadata": {},
   "outputs": [],
   "source": [
    "# Notice that the result is an object for the et_module...\n",
    "print(et_module) # printing the object will generate a standard PRMS template for the record as it appears in \n",
    "                 # the control file.  "
   ]
  },
  {
   "cell_type": "markdown",
   "metadata": {},
   "source": [
    "<img style=\"float: left;\" src = \"./figures/Qs.PNG\" width=\"20\">  \n",
    "### Can you get the starting date from the control object?"
   ]
  },
  {
   "cell_type": "code",
   "execution_count": null,
   "metadata": {},
   "outputs": [],
   "source": [
    "\n",
    "start_date = gs.control.get_record('start_time')\n",
    "print(start_date) # Notice that when the number of values in the record is large, pyGSFLOW echos\n",
    "                                           # the first four value to make the print compact. \n"
   ]
  },
  {
   "cell_type": "code",
   "execution_count": null,
   "metadata": {},
   "outputs": [],
   "source": [
    "## explore data in the control_record object\n",
    "start_date.values"
   ]
  },
  {
   "cell_type": "code",
   "execution_count": null,
   "metadata": {},
   "outputs": [],
   "source": [
    "# Values in any record can be accessed use .get_values() function\n",
    "gs.control.get_values(\"start_time\")\n"
   ]
  },
  {
   "cell_type": "code",
   "execution_count": null,
   "metadata": {},
   "outputs": [],
   "source": [
    "# We can also change the value of a control record as follows\n",
    "gs.control.set_values(name='start_time', values=[1990,1,1,0,0,0])\n",
    "gs.control.get_values(\"start_time\")"
   ]
  },
  {
   "cell_type": "code",
   "execution_count": null,
   "metadata": {},
   "outputs": [],
   "source": [
    "# what about adding a new record to the control file?\n",
    "gs.control.add_record(name = \"xyz\", values = [1, 2]) # Notice that we do not check whether the new record is valid or not.\n",
    "print(gs.control.get_record('xyz'))\n",
    "\n"
   ]
  },
  {
   "cell_type": "code",
   "execution_count": null,
   "metadata": {},
   "outputs": [],
   "source": [
    "\n",
    "# Let us see its location in the control file...\n",
    "gs.control.record_names\n",
    "#Test adding the record any place you like"
   ]
  },
  {
   "cell_type": "code",
   "execution_count": null,
   "metadata": {},
   "outputs": [],
   "source": [
    "# Can you insert the new record in a certan location?\n",
    "gs.control.add_record(name=\"hummingbird_2\", values=['a', 'b'], after='save_vars_to_file')\n",
    "gs.control.record_names"
   ]
  },
  {
   "cell_type": "code",
   "execution_count": null,
   "metadata": {},
   "outputs": [],
   "source": [
    "## If you add a new record without specifying the datatype, pyGSFLOW can \n",
    "##  guess the data type. A good a practise is to force data type as follows\n"
   ]
  },
  {
   "cell_type": "code",
   "execution_count": null,
   "metadata": {},
   "outputs": [],
   "source": [
    "# Similiar to adding, we can remove the record .\n",
    "gs.control.remove_record(\"xyz\") \n",
    "gs.control.remove_record(\"hummingbird_2\") \n",
    "gs.control.get_record(\"hummingbird_2\") # check if the record is removed..."
   ]
  },
  {
   "cell_type": "markdown",
   "metadata": {},
   "source": [
    "### (2.b) Parameters information\n"
   ]
  },
  {
   "cell_type": "code",
   "execution_count": null,
   "metadata": {},
   "outputs": [],
   "source": [
    "gs.prms.parameters.record_names\n"
   ]
  },
  {
   "cell_type": "code",
   "execution_count": null,
   "metadata": {},
   "outputs": [],
   "source": [
    "# how many parameters are there?\n",
    "print(len(gs.prms.parameters.record_names))\n",
    "\n",
    "# Can you get the temperture station for each hru?\n",
    "gs.prms.parameters.get_values('hru_tsta')"
   ]
  },
  {
   "cell_type": "code",
   "execution_count": null,
   "metadata": {},
   "outputs": [],
   "source": [
    "# Can you change the parameters?"
   ]
  },
  {
   "cell_type": "code",
   "execution_count": null,
   "metadata": {},
   "outputs": [],
   "source": [
    "# What can we do else? Explore \"Parameters\" class?\n",
    "dir(gs.prms.parameters)"
   ]
  },
  {
   "cell_type": "markdown",
   "metadata": {},
   "source": [
    "### (2.c) Data Class (Climate Data)"
   ]
  },
  {
   "cell_type": "code",
   "execution_count": null,
   "metadata": {},
   "outputs": [],
   "source": [
    "gs.prms.data.data_df.head(10)"
   ]
  },
  {
   "cell_type": "code",
   "execution_count": null,
   "metadata": {},
   "outputs": [],
   "source": [
    "climate_data = gs.prms.data.data_df\n",
    "plt.plot(climate_data['Date'], climate_data['tmax_0'])"
   ]
  },
  {
   "cell_type": "code",
   "execution_count": null,
   "metadata": {},
   "outputs": [],
   "source": [
    "df_to_plot = climate_data[climate_data['tmax_0']>-100]\n",
    "plt.plot(df_to_plot['Date'], df_to_plot['tmax_0'])"
   ]
  },
  {
   "cell_type": "code",
   "execution_count": null,
   "metadata": {},
   "outputs": [],
   "source": []
  },
  {
   "cell_type": "code",
   "execution_count": null,
   "metadata": {},
   "outputs": [],
   "source": [
    "## add a station\n",
    "climate_data['precip_2'] = 10"
   ]
  },
  {
   "cell_type": "code",
   "execution_count": null,
   "metadata": {},
   "outputs": [],
   "source": [
    "climate_data.head(10)"
   ]
  },
  {
   "cell_type": "code",
   "execution_count": null,
   "metadata": {},
   "outputs": [],
   "source": [
    "#climate_data = climate_data.drop(\"precip_2\", axis=1)\n",
    "gs.prms.data.data_df.drop(\"precip_2\", axis=1, inplace=True)\n",
    "gs.prms.data.data_df"
   ]
  },
  {
   "cell_type": "markdown",
   "metadata": {},
   "source": [
    "### (2.d) Access MODFLOW data in pyGSFLOW \n",
    "All data related to MODFLOW can be accessed and assigned using .mf object. This object is a Flopy instance; thus all operations in Flopy can be used here. MODFLOW is covered in notebook `2_Assemble_GSFLOW_model.ipynb`"
   ]
  },
  {
   "cell_type": "code",
   "execution_count": null,
   "metadata": {},
   "outputs": [],
   "source": []
  },
  {
   "cell_type": "code",
   "execution_count": null,
   "metadata": {},
   "outputs": [],
   "source": [
    "!jupyter nbconvert --to script pygsflow_intro.ipynb"
   ]
  }
 ],
 "metadata": {
  "kernelspec": {
   "display_name": "Python 3",
   "language": "python",
   "name": "python3"
  },
  "language_info": {
   "codemirror_mode": {
    "name": "ipython",
    "version": 3
   },
   "file_extension": ".py",
   "mimetype": "text/x-python",
   "name": "python",
   "nbconvert_exporter": "python",
   "pygments_lexer": "ipython3",
   "version": "3.7.4"
  }
 },
 "nbformat": 4,
 "nbformat_minor": 2
}
