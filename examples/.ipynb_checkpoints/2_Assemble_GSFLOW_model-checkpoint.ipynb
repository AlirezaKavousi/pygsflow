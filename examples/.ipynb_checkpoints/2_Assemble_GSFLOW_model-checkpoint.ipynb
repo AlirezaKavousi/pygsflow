{
 "cells": [
  {
   "cell_type": "markdown",
   "metadata": {},
   "source": [
    "# Assembling the GSFLOW model\n",
    "\n",
    "So far, two models, watershed model and groundwater model, are generated but are not connected. In this notebook, we will demonstrate how these two model can be connected to form the GSFLOW model. Note: To successfully run this exercise make sure to provide the correct paths for the PRMS folder and MODFLOW folder.\n",
    "\n",
    "### Outline\n",
    "* Assemble GSFLOW model from PRMS and MODFLOW\n",
    "* Run the model and visualize the ouputs.\n",
    "\n",
    "\n",
    "<img src = \".\\figures\\WorkFlow.png\">\n"
   ]
  },
  {
   "cell_type": "code",
   "execution_count": null,
   "metadata": {},
   "outputs": [],
   "source": [
    "import os\n",
    "from gsflow import GsflowModel\n",
    "import flopy\n",
    "import matplotlib.pyplot as plt\n",
    "import pandas\n",
    "import numpy as np\n",
    "flopy.__version__"
   ]
  },
  {
   "cell_type": "markdown",
   "metadata": {},
   "source": [
    "### (1) Load the PRMS model using pyGSFLOW\n",
    "Notice that loaded control file has a \"PRMS\" mode."
   ]
  },
  {
   "cell_type": "code",
   "execution_count": null,
   "metadata": {},
   "outputs": [],
   "source": [
    "control_file = os.path.join(\".\", \"data\", \"sagehen\", \"prms\", \"windows\", \"sagehen.control\")\n",
    "gs = GsflowModel.load_from_file(control_file)"
   ]
  },
  {
   "cell_type": "markdown",
   "metadata": {},
   "source": [
    "### (2) Load Modflow using pygsflow\n",
    "\n",
    "pygsflow has a special module that loads Modflow models using FloPy, but corrects for loading and file writing issues specific to GSFLOW"
   ]
  },
  {
   "cell_type": "code",
   "execution_count": null,
   "metadata": {},
   "outputs": [],
   "source": [
    "from gsflow.modflow import Modflow\n",
    "\n",
    "mf = Modflow.load(\"saghen.nam\", model_ws=os.path.join(\".\", \"data\", \"sagehen\", \"modflow\"))"
   ]
  },
  {
   "cell_type": "markdown",
   "metadata": {},
   "source": [
    "### (3) Add Modflow object to pyGSFLOW"
   ]
  },
  {
   "cell_type": "code",
   "execution_count": null,
   "metadata": {},
   "outputs": [],
   "source": [
    "print(mf.get_package_list())\n",
    "gs.mf = mf"
   ]
  },
  {
   "cell_type": "markdown",
   "metadata": {},
   "source": [
    "### (4) Change model mode and  synchronize PRMS and MODFLOW times"
   ]
  },
  {
   "cell_type": "code",
   "execution_count": null,
   "metadata": {},
   "outputs": [],
   "source": [
    "gs.control.set_values(name=\"model_mode\", values=['GSFLOW'])\n",
    "gs.control.set_values(name=\"start_time\", values=[1982, 8, 1, 0, 0, 0])\n",
    "gs.control.set_values(name='end_time', values=[1997, 3, 31, 0, 0, 0])\n",
    "gs.control.set_values(name='modflow_time_zero', values=[1982, 8, 1, 0, 0, 0])\n",
    "gs.control.set_values(name='print_debug', values = [1])"
   ]
  },
  {
   "cell_type": "markdown",
   "metadata": {},
   "source": [
    "### (5) Generate GSFLOW input files in the desired workspace.  "
   ]
  },
  {
   "cell_type": "code",
   "execution_count": null,
   "metadata": {},
   "outputs": [],
   "source": [
    "gs.write_input(workspace=os.path.join(\".\", \"data\", \"temp\"), basename='saghen_new')"
   ]
  },
  {
   "cell_type": "code",
   "execution_count": null,
   "metadata": {},
   "outputs": [],
   "source": [
    "gs.gsflow_exe = os.path.abspath(os.path.join(\"..\", \"bin\", \"gsflow.exe\"))\n"
   ]
  },
  {
   "cell_type": "markdown",
   "metadata": {},
   "source": [
    "### Running GSFLOW will take about 5 minutes...."
   ]
  },
  {
   "cell_type": "code",
   "execution_count": null,
   "metadata": {},
   "outputs": [],
   "source": [
    "gs.run_model()"
   ]
  },
  {
   "cell_type": "markdown",
   "metadata": {},
   "source": [
    "# Results Visualization\n",
    "\n",
    "* GSFLOW budget: Dailey flow rates from/to all the integrated hydrologic model compartments. \n",
    "* PRMS output: PRMS Water-Budget, Statistic Variables, and PRMS Animation Variables. \n",
    "* Modflow outputs (heads & budget)\n"
   ]
  },
  {
   "cell_type": "markdown",
   "metadata": {},
   "source": [
    "### GSFLOW basin budget. \n",
    "GSFLOW saves the dialey flow rates (and volumes) for all the integrated hydrologic model compartments. The results are saved in a Comma-separated values (CSV) file, which can efficiently imported and visualized using Pandas."
   ]
  },
  {
   "cell_type": "code",
   "execution_count": null,
   "metadata": {},
   "outputs": [],
   "source": [
    "# The filename can be found in the control object under the name \"csv_output_file\"\n",
    "workspace = os.path.join(\".\", \"data\", \"temp\")\n",
    "csv_file = gs.control.get_values(\"csv_output_file\")[0]\n",
    "\n",
    "# Import results into Pandas\n",
    "basin_bd = pandas.read_csv(os.path.join(workspace, csv_file))\n",
    "\n",
    "# Show the first 10 lines of the budget in the notebook\n",
    "basin_bd.head(10)"
   ]
  },
  {
   "cell_type": "code",
   "execution_count": null,
   "metadata": {},
   "outputs": [],
   "source": [
    "# To demonstrate plotting a budget component, let us plot the daily recharge values\n",
    "basin_bd.plot(x='Date', y = 'RechargeUnsat2Sat_Q')"
   ]
  },
  {
   "cell_type": "markdown",
   "metadata": {},
   "source": [
    "Importing the budget into Pandas allows us to access all of the powerful built in operations that come with Pandas\n",
    "\n",
    "For example, let's plot the annual precipitation"
   ]
  },
  {
   "cell_type": "code",
   "execution_count": null,
   "metadata": {},
   "outputs": [],
   "source": [
    "basin_bd['Date'] = pandas.to_datetime(basin_bd['Date'])\n",
    "Budget_by_year = basin_bd.groupby(basin_bd.Date.dt.year).sum()\n"
   ]
  },
  {
   "cell_type": "code",
   "execution_count": null,
   "metadata": {},
   "outputs": [],
   "source": [
    "Budget_by_year['StreamOut_Q'].plot() ; plt.title(\"Annual Stream Outflow\")"
   ]
  },
  {
   "cell_type": "code",
   "execution_count": null,
   "metadata": {},
   "outputs": [],
   "source": [
    "Budget_by_month = basin_bd.groupby(basin_bd.Date.dt.month).mean()\n",
    "Budget_by_month['StreamOut_Q'].plot(); plt.title(\"Monthly Stream Outflow\")"
   ]
  },
  {
   "cell_type": "markdown",
   "metadata": {},
   "source": [
    "### PRMS Statistic Variables\n",
    "This following method can be used to import statVar file into Pandas."
   ]
  },
  {
   "cell_type": "code",
   "execution_count": null,
   "metadata": {},
   "outputs": [],
   "source": [
    "# Load the results\n",
    "gs.prms.get_StatVar()"
   ]
  },
  {
   "cell_type": "code",
   "execution_count": null,
   "metadata": {},
   "outputs": [],
   "source": [
    "# To plot all results, we can use the following method...\n",
    "gs.prms.stat.plot()"
   ]
  },
  {
   "cell_type": "code",
   "execution_count": null,
   "metadata": {},
   "outputs": [],
   "source": [
    "## Importing the animation is not supported yet. In the future, a method will be added to generate vedio from animation file."
   ]
  },
  {
   "cell_type": "markdown",
   "metadata": {},
   "source": [
    "# MODFLOW Results"
   ]
  },
  {
   "cell_type": "code",
   "execution_count": null,
   "metadata": {},
   "outputs": [],
   "source": [
    "mf = gs.mf\n",
    "mf"
   ]
  },
  {
   "cell_type": "markdown",
   "metadata": {},
   "source": [
    "### Hydraulic Head Maps"
   ]
  },
  {
   "cell_type": "code",
   "execution_count": null,
   "metadata": {},
   "outputs": [],
   "source": [
    "# List Modflow output files\n",
    "mf.output_fnames"
   ]
  },
  {
   "cell_type": "code",
   "execution_count": null,
   "metadata": {},
   "outputs": [],
   "source": [
    "# Obtain heads output file name\n",
    "head_file = os.path.join(mf.model_ws, mf.output_fnames[2])\n",
    "head_file\n",
    "\n",
    "cbc = os.path.join(mf.model_ws, mf.output_fnames[0])"
   ]
  },
  {
   "cell_type": "code",
   "execution_count": null,
   "metadata": {},
   "outputs": [],
   "source": [
    "# load the head into the hds object\n",
    "hds = flopy.utils.HeadFile(head_file)\n",
    "cbc = flopy.utils.CellBudgetFile(cbc)"
   ]
  },
  {
   "cell_type": "code",
   "execution_count": null,
   "metadata": {},
   "outputs": [],
   "source": [
    "# Since the head is saved at different time points, we first need to fid these times\n",
    "print(cbc.textlist)\n",
    "fff = cbc.get_data(text=\"FLOW FRONT FACE\", full3D=True)[-1]\n",
    "frf = cbc.get_data(text=\"FLOW RIGHT FACE\", full3D=True)[-1]\n",
    "flf = cbc.get_data(text=\"FLOW LOWER FACE\", full3D=True)[-1]\n",
    "# hds.get_kstpkper()"
   ]
  },
  {
   "cell_type": "code",
   "execution_count": null,
   "metadata": {},
   "outputs": [],
   "source": [
    "# To get the data at any time point, \n",
    "head = hds.get_data(kstpkper= (729, 1))\n",
    "head[head<0] = np.nan"
   ]
  },
  {
   "cell_type": "code",
   "execution_count": null,
   "metadata": {},
   "outputs": [],
   "source": [
    "# Now we can plot the head map\n",
    "plt.figure(figsize=(17,6));\n",
    "plt.subplot(1,2,1)\n",
    "plt.contourf(head[0,:,:],50, cmap = 'jet');plt.gca().invert_yaxis(); plt.colorbar(); plt.title(\"Head for Layer 1\")\n",
    "plt.axis('equal')\n",
    "plt.subplot(1,2,2)\n",
    "plt.contourf(head[1,:,:],50, cmap = 'jet');plt.gca().invert_yaxis(); plt.colorbar(); plt.title(\"Head for Layer 2\")\n",
    "plt.axis('equal')"
   ]
  },
  {
   "cell_type": "markdown",
   "metadata": {},
   "source": [
    "## Head Cross-section"
   ]
  },
  {
   "cell_type": "code",
   "execution_count": null,
   "metadata": {},
   "outputs": [],
   "source": [
    "head = hds.get_data()\n",
    "levels = np.arange(1830, 2505, 10)\n",
    "fig = plt.figure(figsize=(15, 10))\n",
    "ax = fig.add_subplot(2, 1, 1)\n",
    "ax.set_title('Head Cross-section')\n",
    "modelxsect = flopy.plot.PlotCrossSection(model=mf, line={'Column': 50})\n",
    "# ct = modelxsect.contour_array(head, masked_values=[999.], head=head, levels=levels)\n",
    "patches = modelxsect.plot_ibound(head=head)\n",
    "wt = modelxsect.plot_surface(head, masked_values=[999.], color='blue', lw=1)\n",
    "linecollection = modelxsect.plot_grid()\n",
    "disc = modelxsect.plot_discharge(frf, fff, flf)\n",
    "ax.set_ylim([1800, 2500])"
   ]
  },
  {
   "cell_type": "markdown",
   "metadata": {},
   "source": [
    "### Heads Timeseries\n",
    "Sometimes we are interested more in a head change with time at a certain point..."
   ]
  },
  {
   "cell_type": "code",
   "execution_count": null,
   "metadata": {},
   "outputs": [],
   "source": [
    "plt.figure(figsize=(10,7)); \n",
    "\n",
    "# The point should be specified as  (layer, row, column)\n",
    "point = (0,50,50)\n",
    "\n",
    "# Extract time series at this point\n",
    "h_ts = hds.get_ts(idx=point)\n",
    "plt.plot(h_ts[2:,0], h_ts[2:,1], 'b', label = \"Layer 1\")\n",
    "\n",
    "\n",
    "# let us do the same thing for the second layer and compare the results ...\n",
    "point = (1,50,50)\n",
    "h_ts = hds.get_ts(idx=point)\n",
    "plt.plot(h_ts[2:,0], h_ts[2:,1], 'r', label = \"Layer 2\")\n",
    "plt.xlabel(\"Time (Days)\")\n",
    "plt.ylabel(\"Heads (m)\")\n",
    "plt.legend()"
   ]
  },
  {
   "cell_type": "markdown",
   "metadata": {},
   "source": [
    "### Modflow Budget "
   ]
  },
  {
   "cell_type": "code",
   "execution_count": null,
   "metadata": {},
   "outputs": [],
   "source": [
    "# Obtain heads output file name\n",
    "cbc_file = os.path.join(mf.model_ws, mf.output_fnames[0])\n",
    "cbc_file"
   ]
  },
  {
   "cell_type": "code",
   "execution_count": null,
   "metadata": {},
   "outputs": [],
   "source": [
    "# Load Budget\n",
    "cbc = flopy.utils.CellBudgetFile(cbc_file)"
   ]
  },
  {
   "cell_type": "code",
   "execution_count": null,
   "metadata": {},
   "outputs": [],
   "source": [
    "# list the time points where budget result is available\n",
    "cbc.get_kstpkper()"
   ]
  },
  {
   "cell_type": "code",
   "execution_count": null,
   "metadata": {},
   "outputs": [],
   "source": [
    "# list budget items that exist in the budget file\n",
    "cbc.textlist"
   ]
  },
  {
   "cell_type": "code",
   "execution_count": null,
   "metadata": {},
   "outputs": [],
   "source": [
    "## Plot \n",
    "plt.figure(figsize=(15,10)); \n",
    "frf = cbc.get_data(full3D=True, kstpkper= (5355, 1),text='FLOW RIGHT FACE ')\n",
    "plt.subplot(2,2,1)\n",
    "plt.contourf(frf[0][0,:,:]);plt.gca().invert_yaxis(); plt.colorbar()\n",
    "plt.title('FLOW RIGHT FACE ')\n",
    "\n",
    "fff = cbc.get_data(full3D=True, kstpkper= (5355, 1),text= 'FLOW FRONT FACE ')\n",
    "plt.subplot(2,2,2)\n",
    "plt.contourf(fff[0][0,:,:]);plt.gca().invert_yaxis(); plt.colorbar()\n",
    "plt.title('FLOW FRONT FACE ')\n",
    "\n",
    "\n",
    "flf = cbc.get_data(full3D=True, kstpkper= (5355, 1),text= 'FLOW LOWER FACE ')\n",
    "plt.subplot(2,2,3)\n",
    "plt.contourf(flf[0][0,:,:]);plt.gca().invert_yaxis(); plt.colorbar()\n",
    "plt.title('FLOW LOWER FACE ')\n",
    "\n",
    "\n",
    "xx = cbc.get_data(full3D=True, kstpkper= (5355, 1),text=   '  STREAM LEAKAGE' )\n",
    "plt.subplot(2,2,4)\n",
    "plt.contourf(xx[0][0,:,:]);plt.gca().invert_yaxis(); plt.colorbar()\n",
    "plt.title('  STREAM LEAKAGE')\n",
    "plt.show()\n",
    "\n",
    "mm = flopy.plot.PlotMapView(model=mf, layer=0)\n",
    "mm.plot_discharge(frf[0], flf[0], istep=1, jstep=1)"
   ]
  },
  {
   "cell_type": "markdown",
   "metadata": {},
   "source": [
    "### Reading information from the list file"
   ]
  },
  {
   "cell_type": "code",
   "execution_count": null,
   "metadata": {},
   "outputs": [],
   "source": [
    "list_file = mf.name + \".list\"\n",
    "list_file"
   ]
  },
  {
   "cell_type": "code",
   "execution_count": null,
   "metadata": {},
   "outputs": [],
   "source": [
    "mf_list = flopy.utils.MfListBudget(list_file)\n",
    "incrementaldf, cumulativedf = mf_list.get_dataframes()"
   ]
  },
  {
   "cell_type": "code",
   "execution_count": null,
   "metadata": {},
   "outputs": [],
   "source": [
    "incrementaldf"
   ]
  },
  {
   "cell_type": "code",
   "execution_count": null,
   "metadata": {},
   "outputs": [],
   "source": [
    "incrementaldf['STORAGE_IN'].plot(label = 'Storage_in')\n",
    "incrementaldf['STORAGE_OUT'].plot(label = 'Storage_out')\n",
    "plt.legend()"
   ]
  },
  {
   "cell_type": "code",
   "execution_count": null,
   "metadata": {},
   "outputs": [],
   "source": [
    "incrementaldf['IN-OUT'].plot()"
   ]
  },
  {
   "cell_type": "code",
   "execution_count": null,
   "metadata": {},
   "outputs": [],
   "source": [
    "!jupyter nbconvert --to script Assemble_GSFLOW_model.ipynb"
   ]
  },
  {
   "cell_type": "code",
   "execution_count": null,
   "metadata": {},
   "outputs": [],
   "source": []
  }
 ],
 "metadata": {
  "kernelspec": {
   "display_name": "Python 3",
   "language": "python",
   "name": "python3"
  },
  "language_info": {
   "codemirror_mode": {
    "name": "ipython",
    "version": 3
   },
   "file_extension": ".py",
   "mimetype": "text/x-python",
   "name": "python",
   "nbconvert_exporter": "python",
   "pygments_lexer": "ipython3",
   "version": "3.7.4"
  }
 },
 "nbformat": 4,
 "nbformat_minor": 2
}
