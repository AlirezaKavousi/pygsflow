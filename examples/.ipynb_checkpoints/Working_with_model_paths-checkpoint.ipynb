{
 "cells": [
  {
   "cell_type": "markdown",
   "metadata": {},
   "source": [
    "# Working with model paths\n",
    "\n",
    "In this example we show how to deal with model paths, which can be tricky when working with a GSFLOW model or individual parts of a GSFLOW model.\n",
    "\n",
    "Relative paths in the GSFLOW control file and in the MODFLOW NAM file are always set relative to the shell or bat file the model is being run from. This file does not need to be in the same directory as any of the model files. We show how to work with these cases."
   ]
  },
  {
   "cell_type": "code",
   "execution_count": null,
   "metadata": {},
   "outputs": [],
   "source": [
    "import os\n",
    "import gsflow\n",
    "from gsflow.modflow import Modflow"
   ]
  },
  {
   "cell_type": "markdown",
   "metadata": {},
   "source": [
    "### How pyGSFLOW automatically determines the \"base path\" for a model\n",
    "\n",
    "The default method `pyGSFLOW` uses to determine the base path is by the location of the Control file. When a model is loaded using `gsflow.GsflowModel.load_from_file()` the code determines the location of the control file and applies this as the base directory for all relative paths within the control file and the MODFLOW NAM file.\n",
    "\n",
    "Here are a couple of examples of this case"
   ]
  },
  {
   "cell_type": "code",
   "execution_count": null,
   "metadata": {},
   "outputs": [],
   "source": [
    "control_file = os.path.join(\".\", \"data\", \"sagehen\", \"gsflow\", \"saghen_new_cont.control\")\n",
    "gsf = gsflow.GsflowModel.load_from_file(control_file)"
   ]
  },
  {
   "cell_type": "markdown",
   "metadata": {},
   "source": [
    "### Loading only the modflow files using the standard method\n",
    "\n",
    "we first specify the `model_ws` which is the base directory that paths in the NAM file are relative to and then we can pass this to the `Modflow.load()` method."
   ]
  },
  {
   "cell_type": "code",
   "execution_count": null,
   "metadata": {},
   "outputs": [],
   "source": [
    "model_ws = os.path.join(\".\", \"data\", \"sagehen\", \"gsflow\")\n",
    "\n",
    "name_file = \"saghen_new.nam\" \n",
    "ml = Modflow.load(name_file, model_ws=model_ws)\n",
    "ml"
   ]
  },
  {
   "cell_type": "markdown",
   "metadata": {},
   "source": [
    "## Specifying the \"base path\"\n",
    "\n",
    "Specifying the \"base path\" is useful when paths are not relative to the GSFLOW control file. This is the case when the model run file (.bat, .sh) is located in a different directory.\n",
    "\n",
    "The `model_ws` parameter in the `GsflowModel.load_from_file()` allows the user to override the default behaviour and set the base path for all model files.\n",
    "\n",
    "Here is an example where the model run file is located one directory up from the control file:"
   ]
  },
  {
   "cell_type": "code",
   "execution_count": null,
   "metadata": {},
   "outputs": [],
   "source": [
    "# set the location of model run file \n",
    "model_ws = os.path.join(\".\", \"data\", \"sagehen\", \"gsflow_paths\")\n",
    "\n",
    "# set the location of the gsflow control file\n",
    "control_file = os.path.join(model_ws, \"control\", \"saghen_paths_cont.control\")\n",
    "\n",
    "# load the model and override the default path creation by passing in model_ws\n",
    "gsf = gsflow.GsflowModel.load_from_file(control_file, model_ws=model_ws)"
   ]
  },
  {
   "cell_type": "markdown",
   "metadata": {},
   "source": [
    "### Loading only MODFLOW or PRMS with `GsflowModel` after specifying \"base path\""
   ]
  },
  {
   "cell_type": "code",
   "execution_count": null,
   "metadata": {},
   "outputs": [],
   "source": [
    "# set the location of model run file \n",
    "model_ws = os.path.join(\".\", \"data\", \"sagehen\", \"gsflow_paths\")\n",
    "\n",
    "# set the location of the gsflow control file\n",
    "control_file = os.path.join(model_ws, \"control\", \"saghen_paths_cont.control\")\n",
    "\n",
    "# load only modflow into the GsflowModel object and override the default path creation by passing in model_ws\n",
    "gsf = gsflow.GsflowModel.load_from_file(control_file, modflow_only=True, model_ws=model_ws)\n",
    "\n",
    "# get the modflow model\n",
    "ml = gsf.mf\n",
    "ml"
   ]
  },
  {
   "cell_type": "code",
   "execution_count": null,
   "metadata": {},
   "outputs": [],
   "source": [
    "# set the location of model run file \n",
    "model_ws = os.path.join(\".\", \"data\", \"sagehen\", \"gsflow_paths\")\n",
    "\n",
    "# set the location of the gsflow control file\n",
    "control_file = os.path.join(model_ws, \"control\", \"saghen_paths_cont.control\")\n",
    "\n",
    "# load only modflow into the GsflowModel object and override the default path creation by passing in model_ws\n",
    "gsf = gsflow.GsflowModel.load_from_file(control_file, prms_only=True, model_ws=model_ws)\n",
    "\n",
    "# get the prms model\n",
    "prms = gsf.prms"
   ]
  },
  {
   "cell_type": "markdown",
   "metadata": {},
   "source": [
    "### Loading MODFLOW with `Modflow` after specifying the base path"
   ]
  },
  {
   "cell_type": "code",
   "execution_count": null,
   "metadata": {},
   "outputs": [],
   "source": [
    "# specify our base path\n",
    "model_ws = os.path.join(\".\", \"data\", \"sagehen\", \"gsflow_paths\")\n",
    "\n",
    "# specify the relative path to the NAM file\n",
    "name_file = os.path.join(\"modflow\", \"saghen_paths.nam\")\n",
    "\n",
    "ml = Modflow.load(name_file, model_ws=model_ws)"
   ]
  },
  {
   "cell_type": "code",
   "execution_count": null,
   "metadata": {},
   "outputs": [],
   "source": []
  }
 ],
 "metadata": {
  "kernelspec": {
   "display_name": "Python 3",
   "language": "python",
   "name": "python3"
  },
  "language_info": {
   "codemirror_mode": {
    "name": "ipython",
    "version": 3
   },
   "file_extension": ".py",
   "mimetype": "text/x-python",
   "name": "python",
   "nbconvert_exporter": "python",
   "pygments_lexer": "ipython3",
   "version": "3.7.4"
  }
 },
 "nbformat": 4,
 "nbformat_minor": 2
}
