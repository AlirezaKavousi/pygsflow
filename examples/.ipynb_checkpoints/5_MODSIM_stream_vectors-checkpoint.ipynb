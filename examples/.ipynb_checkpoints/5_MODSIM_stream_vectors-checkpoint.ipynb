{
 "cells": [
  {
   "cell_type": "markdown",
   "metadata": {},
   "source": [
    "# Creating a stream vector shapefile\n",
    "\n",
    "pyGSFLOW includes capabilities for converting a discretized `SFR` stream network to a vector based shapefile. The attribute tabble of this shapefile contains information on each vector's connectivity and can be used to parameterize MODSIM models.\n",
    "\n",
    "The `Modsim` class in pyGSFLOW calculates stream segment connectivity to other segments and to lakes parameterized in the `LAK` package."
   ]
  },
  {
   "cell_type": "code",
   "execution_count": null,
   "metadata": {},
   "outputs": [],
   "source": [
    "# start with importing our packages\n",
    "import os\n",
    "import sys\n",
    "import flopy as fp\n",
    "import gsflow \n",
    "import matplotlib.pyplot as plt\n",
    "import numpy as np\n",
    "import shapefile\n",
    "import pandas as pd"
   ]
  },
  {
   "cell_type": "code",
   "execution_count": null,
   "metadata": {},
   "outputs": [],
   "source": [
    "# define our model workspace and spatial information\n",
    "ws = os.path.abspath(os.path.dirname(sys.argv[0]))\n",
    "model_ws = os.path.join(\"data\", \"sagehen\", \"gsflow\")\n",
    "\n",
    "xll = 438979.0\n",
    "yll = 3793007.75\n",
    "angrot = 4"
   ]
  },
  {
   "cell_type": "markdown",
   "metadata": {},
   "source": [
    "## Loading a GSFLOW model\n",
    "\n",
    "Our first step is to load a GSFLOW model using pyGSFLOW. If the `model_mode` parameter is set to `MODSIM-GSFLOW` or `GSFLOW-MODSIM` within the control file, pyGSFLOW will automatically create a stream vector shapefile when the model is written to disk. If the `model_mode` parameter in the GSFLOW control file is `GSFLOW` or `MODFLOW` the user can still create a stream vector shapefile. This example outlines how to create a shapefile in the second case (`model_mode`= `GSFLOW` or `MODFLOW`)"
   ]
  },
  {
   "cell_type": "code",
   "execution_count": null,
   "metadata": {},
   "outputs": [],
   "source": [
    "# load the model\n",
    "gsf = gsflow.GsflowModel.load_from_file(os.path.join(model_ws, 'saghen_new_cont.control'))\n",
    "\n",
    "# set model grid coordinate info\n",
    "gsf.mf.modelgrid.set_coord_info(xll, yll, 4)"
   ]
  },
  {
   "cell_type": "markdown",
   "metadata": {},
   "source": [
    "Let's plot the stream network from SFR first, just to examine it."
   ]
  },
  {
   "cell_type": "code",
   "execution_count": null,
   "metadata": {},
   "outputs": [],
   "source": [
    "rch = gsf.mf.sfr.reach_data\n",
    "\n",
    "# set up an array of iseg numbers to visualize connectivity\n",
    "arr = np.zeros((1, gsf.mf.nrow, gsf.mf.ncol), dtype='int')\n",
    "for rec in rch:\n",
    "    arr[0, rec.i, rec.j] = rec.iseg\n",
    "\n",
    "# use flopy to plot the SFR segments\n",
    "fig = plt.figure(figsize=(12, 12))\n",
    "pmv = fp.plot.PlotMapView(model=gsf.mf)\n",
    "collection = pmv.plot_array(arr, masked_values=[0,], cmap='plasma')\n",
    "pmv.plot_inactive()\n",
    "pmv.plot_grid(lw=0.25)\n",
    "plt.colorbar(collection, shrink=0.75);"
   ]
  },
  {
   "cell_type": "markdown",
   "metadata": {},
   "source": [
    "## Creating a `Modsim` instance using a `GsflowModel` object\n",
    "\n",
    "creating a MODSIM instance is as easy as passing a `GsflowModel` object to the `Modsim` class."
   ]
  },
  {
   "cell_type": "code",
   "execution_count": null,
   "metadata": {},
   "outputs": [],
   "source": [
    "# creating a MODSIM instance is as easy as \n",
    "modsim = gsflow.modsim.Modsim(gsf)\n"
   ]
  },
  {
   "cell_type": "markdown",
   "metadata": {},
   "source": [
    "## Exporting a vector shapefile from `Modsim`\n",
    "\n",
    "The `Modsim` instance has a built in method `write_modsim_shapefile()` that is used to write a stream vector shapefiles. The `write_modsim_shapefile` has a number of parameters that can be used:\n",
    "\n",
    "   - `shp`: is a string defining the output shapefile's name\n",
    "   - `proj4` : proj4 is an optional parameter that can be used to define the shapefile's projection information\n",
    "   - `flag_spillway` : an optional parameter that can be used to determine spillways in the streamflow network. There are methods that have been implemented  \n",
    "    + `\"elev\"` : elevation method which flags based on streambed elevation rules\n",
    "    + `\"flow\"` : flag spillways based on flow rules\n",
    "    + list of segments : the user can provide a list of segments that are known spillways to be flagged\n",
    "   - `nearest` : boolean value that determines if LAK topology will connect to the nearest reach in a segment or the the begining/end of that segment."
   ]
  },
  {
   "cell_type": "code",
   "execution_count": null,
   "metadata": {},
   "outputs": [],
   "source": [
    "shp_file = os.path.join(ws, \"data\", \"temp\", \"sagehen_vectors.shp\")\n",
    "modsim.write_modsim_shapefile(shp_file)"
   ]
  },
  {
   "cell_type": "markdown",
   "metadata": {},
   "source": [
    "### Checking the attribute table\n",
    "\n",
    "Now that the shapefile has been created it can be loaded into GIS software and analyzed. Note: In this example I did not define a projection, and would then need to assign it using my GIS software's tools. \n",
    "\n",
    "We can also use pyshp to load the shapefile and inspect it in python."
   ]
  },
  {
   "cell_type": "code",
   "execution_count": null,
   "metadata": {},
   "outputs": [],
   "source": [
    "attr = []\n",
    "shps = {}\n",
    "with shapefile.Reader(shp_file) as r:\n",
    "    fields = [f[0] for i, f in enumerate(r.fields) if i > 0]\n",
    "    for ix, shape in enumerate(r.shapes()):\n",
    "        feat = shape.__geo_interface__\n",
    "        xy = np.array(feat['coordinates']).T\n",
    "        shps[ix] = xy\n",
    "        rec = [i for i in r.record(ix)]\n",
    "        attr.append(rec)\n",
    "\n",
    "df = pd.DataFrame(attr, columns=fields)\n",
    "df"
   ]
  },
  {
   "cell_type": "code",
   "execution_count": null,
   "metadata": {},
   "outputs": [],
   "source": [
    "# use flopy to plot the SFR segments\n",
    "fig = plt.figure(figsize=(10, 10))\n",
    "pmv = fp.plot.PlotMapView(model=gsf.mf)\n",
    "# collection = pmv.plot_array(arr, masked_values=[0,], cmap='plasma')\n",
    "pmv.plot_inactive()\n",
    "pmv.plot_grid(lw=0.25)\n",
    "pmv.plot_bc(package=gsf.mf.sfr, color='gainsboro')\n",
    "for _, xy in shps.items():\n",
    "    plt.plot(xy[0], xy[1], lw=2)\n",
    "\n",
    "plt.title(\"Stream vector plot\");"
   ]
  },
  {
   "cell_type": "markdown",
   "metadata": {},
   "source": [
    "## Modflow instances can also be used to create a vector shapefile\n",
    "\n",
    "The `Modsim` class can also accept a `flopy.modflow.Modflow` object to create a vector shapefile"
   ]
  },
  {
   "cell_type": "code",
   "execution_count": null,
   "metadata": {},
   "outputs": [],
   "source": [
    "ml = fp.modflow.Modflow.load('saghen_new.nam', model_ws=model_ws, version='mfnwt')\n",
    "ml.modelgrid.set_coord_info(xll, yll, angrot)\n",
    "\n",
    "modsim = gsflow.modsim.Modsim(ml)\n",
    "\n",
    "shp_file = os.path.join(ws, \"data\", \"temp\", \"sagehen_modflow_vectors.shp\")\n",
    "modsim.write_modsim_shapefile(shp_file)"
   ]
  },
  {
   "cell_type": "markdown",
   "metadata": {},
   "source": [
    "Inspecting the shapefile:"
   ]
  },
  {
   "cell_type": "code",
   "execution_count": null,
   "metadata": {},
   "outputs": [],
   "source": [
    "attr = []\n",
    "shps = {}\n",
    "with shapefile.Reader(shp_file) as r:\n",
    "    fields = [f[0] for i, f in enumerate(r.fields) if i > 0]\n",
    "    for ix, shape in enumerate(r.shapes()):\n",
    "        feat = shape.__geo_interface__\n",
    "        xy = np.array(feat['coordinates']).T\n",
    "        shps[ix] = xy\n",
    "        rec = [i for i in r.record(ix)]\n",
    "        attr.append(rec)\n",
    "\n",
    "df = pd.DataFrame(attr, columns=fields)\n",
    "df"
   ]
  },
  {
   "cell_type": "code",
   "execution_count": null,
   "metadata": {},
   "outputs": [],
   "source": [
    "# use flopy to plot the SFR segments\n",
    "fig = plt.figure(figsize=(10, 10))\n",
    "pmv = fp.plot.PlotMapView(model=ml)\n",
    "# collection = pmv.plot_array(arr, masked_values=[0,], cmap='plasma')\n",
    "pmv.plot_inactive()\n",
    "pmv.plot_grid(lw=0.25)\n",
    "pmv.plot_bc(package=ml.sfr, color='gainsboro')\n",
    "for _, xy in shps.items():\n",
    "    plt.plot(xy[0], xy[1], lw=2)\n",
    "\n",
    "plt.title(\"Stream vector plot\");"
   ]
  },
  {
   "cell_type": "code",
   "execution_count": null,
   "metadata": {},
   "outputs": [],
   "source": []
  }
 ],
 "metadata": {
  "kernelspec": {
   "display_name": "Python 3",
   "language": "python",
   "name": "python3"
  },
  "language_info": {
   "codemirror_mode": {
    "name": "ipython",
    "version": 3
   },
   "file_extension": ".py",
   "mimetype": "text/x-python",
   "name": "python",
   "nbconvert_exporter": "python",
   "pygments_lexer": "ipython3",
   "version": "3.7.4"
  }
 },
 "nbformat": 4,
 "nbformat_minor": 2
}
