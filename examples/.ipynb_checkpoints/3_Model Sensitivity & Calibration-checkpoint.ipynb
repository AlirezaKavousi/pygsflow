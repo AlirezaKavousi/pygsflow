{
 "cells": [
  {
   "cell_type": "markdown",
   "metadata": {},
   "source": [
    "## Accelerate Sensitivity Analysis & Model Calibration Using pyGSFLOW\n"
   ]
  },
  {
   "cell_type": "markdown",
   "metadata": {},
   "source": [
    "<img src = \"./figures/WorkFlow.PNG\">\n",
    "\n",
    "\n",
    "\n"
   ]
  },
  {
   "cell_type": "markdown",
   "metadata": {},
   "source": [
    "### Agenda\n",
    "* Plot PRMS 2D data\n",
    "* Change 2D data by a scalar factor\n",
    "* Change zones in 2D maps using conditional masks\n",
    "* Simple sensitivity analysis\n",
    "* Comparing simulations and measurements\n",
    "* Calibration\n"
   ]
  },
  {
   "cell_type": "code",
   "execution_count": null,
   "metadata": {},
   "outputs": [],
   "source": [
    "import os\n",
    "from gsflow import GsflowModel\n",
    "import matplotlib.pyplot as plt\n",
    "import numpy as np\n",
    "import pandas as pd"
   ]
  },
  {
   "cell_type": "code",
   "execution_count": null,
   "metadata": {},
   "outputs": [],
   "source": [
    "## The GSFLOW model is loaded as follows\n",
    "control_file = os.path.join(\".\", \"data\", \"sagehen\", \"gsflow\", \"saghen_new_cont.control\")\n",
    "gs = GsflowModel.load_from_file(control_file)\n"
   ]
  },
  {
   "cell_type": "code",
   "execution_count": null,
   "metadata": {},
   "outputs": [],
   "source": [
    "#gs.prms.Data.data_df.to_csv(\"temp.csv\")\n",
    "gs.prms.parameters.record_names"
   ]
  },
  {
   "cell_type": "markdown",
   "metadata": {},
   "source": [
    "### (1) Visualize PRMS data"
   ]
  },
  {
   "cell_type": "code",
   "execution_count": null,
   "metadata": {},
   "outputs": [],
   "source": [
    "print(gs.prms.parameters.get_record(\"ssr2gw_rate\"))"
   ]
  },
  {
   "cell_type": "code",
   "execution_count": null,
   "metadata": {},
   "outputs": [],
   "source": [
    "Params = gs.prms.parameters\n",
    "gs.prms.parameters.get_values(\"ssr2gw_rate\")"
   ]
  },
  {
   "cell_type": "code",
   "execution_count": null,
   "metadata": {},
   "outputs": [],
   "source": [
    "nrow = 77\n",
    "ncol = 84\n",
    "ssr2gw_rate = Params.get_values(\"ssr2gw_rate\").reshape(nrow, ncol)\n",
    "plt.imshow(ssr2gw_rate)\n",
    "plt.colorbar();"
   ]
  },
  {
   "cell_type": "markdown",
   "metadata": {},
   "source": []
  },
  {
   "cell_type": "code",
   "execution_count": null,
   "metadata": {},
   "outputs": [],
   "source": [
    "# 2D data\n",
    "param = gs.prms.parameters.get_record('rain_adj')\n",
    "print(param)"
   ]
  },
  {
   "cell_type": "code",
   "execution_count": null,
   "metadata": {},
   "outputs": [],
   "source": [
    "rainadj = gs.prms.parameters.get_values('rain_adj')\n",
    "rainadj = rainadj.reshape(12,nrow,ncol)\n",
    "fig = plt.figure(figsize=(15,5)); \n",
    "for mon in range(12): \n",
    "    txt = \"Mon {}\".format(mon+1)\n",
    "    ax = plt.subplot(2,6,mon+1) \n",
    "    ax.set_title(txt)\n",
    "    img = ax.imshow(rainadj[mon,:,:], cmap='jet')\n",
    "    \n",
    "    fig.colorbar(img, ax= ax)\n",
    "    ax.set_aspect('auto')\n",
    "plt.tight_layout(h_pad=1)    \n",
    "\n"
   ]
  },
  {
   "cell_type": "markdown",
   "metadata": {},
   "source": [
    "### (2) Scale parameter by a scalar value"
   ]
  },
  {
   "cell_type": "markdown",
   "metadata": {},
   "source": [
    "In this exercise, let us change the model mode to \"PRMS\" becuase it's quick to run it. The same exercise can be made using GSFLOW model; however, runing the model will take a longer period of time"
   ]
  },
  {
   "cell_type": "code",
   "execution_count": null,
   "metadata": {},
   "outputs": [],
   "source": [
    "gs.control.set_values(\"model_mode\", ['PRMS'])"
   ]
  },
  {
   "cell_type": "code",
   "execution_count": null,
   "metadata": {},
   "outputs": [],
   "source": [
    "gs.write_input(workspace=os.path.join(\".\", \"data\", \"temp\"))"
   ]
  },
  {
   "cell_type": "code",
   "execution_count": null,
   "metadata": {},
   "outputs": [],
   "source": [
    "gs.gsflow_exe = os.path.abspath(os.path.join(\"..\", \"bin\", \"gsflow.exe\"))\n",
    "gs.run_model()"
   ]
  },
  {
   "cell_type": "code",
   "execution_count": null,
   "metadata": {},
   "outputs": [],
   "source": [
    "gs.prms.get_StatVar()"
   ]
  },
  {
   "cell_type": "code",
   "execution_count": null,
   "metadata": {},
   "outputs": [],
   "source": [
    "gs.prms.stat.stat_df\n"
   ]
  },
  {
   "cell_type": "code",
   "execution_count": null,
   "metadata": {},
   "outputs": [],
   "source": [
    "basic_cfs_before = gs.prms.stat.stat_df['basin_cfs_1'].values"
   ]
  },
  {
   "cell_type": "markdown",
   "metadata": {},
   "source": [
    "### Adjusting values for calibration\n",
    "\n",
    "we can use pygsflow to change parameter values and display the results of our adjustments\n",
    "\n",
    "we'll start by adjusting `rain_adj` and `snow_adj`"
   ]
  },
  {
   "cell_type": "code",
   "execution_count": null,
   "metadata": {},
   "outputs": [],
   "source": [
    "## save a copy of rain_adj before we change ir\n",
    "rain_adj_backup = np.copy(gs.prms.parameters.get_values('rain_adj'))\n",
    "snow_adj_backup = np.copy(gs.prms.parameters.get_values('snow_adj'))"
   ]
  },
  {
   "cell_type": "code",
   "execution_count": null,
   "metadata": {
    "scrolled": false
   },
   "outputs": [],
   "source": [
    "## Let us just remove the effect of rain by assiging rain adj factor to 0.0\n",
    "newrainadj = rain_adj_backup * 0.0\n",
    "gs.prms.parameters.set_values('rain_adj', newrainadj)\n",
    "gs.prms.parameters.set_values('snow_adj', 0.0 * snow_adj_backup)\n",
    "\n",
    "# Write input files\n",
    "gs.write_input(workspace=os.path.join(\".\", \"data\", \"temp\", \"prms_files\"))\n",
    "\n",
    "# run\n",
    "gs.run_model()\n",
    "\n",
    "# Get results\n",
    "gs.prms.get_StatVar() \n",
    "basic_cfs_after = gs.prms.stat.stat_df['basin_cfs_1'].values"
   ]
  },
  {
   "cell_type": "code",
   "execution_count": null,
   "metadata": {},
   "outputs": [],
   "source": [
    "dates = gs.prms.stat.stat_df['Date'].values\n",
    "plt.figure(figsize=(10,7))\n",
    "plt.plot(dates, (basic_cfs_before), 'b', label = 'before' )\n",
    "plt.plot(dates,(basic_cfs_after), 'r', label = 'after' )\n",
    "plt.legend()"
   ]
  },
  {
   "cell_type": "markdown",
   "metadata": {},
   "source": [
    "### (2) Use \"array masking\" to change parameters\n"
   ]
  },
  {
   "cell_type": "code",
   "execution_count": null,
   "metadata": {},
   "outputs": [],
   "source": [
    "# masking\n",
    "Params = gs.prms.parameters\n",
    "hru_elev = np.copy(Params.get_values(\"hru_elev\"))\n",
    "hru_elev = hru_elev.reshape(nrow, ncol)\n",
    "plt.imshow(hru_elev)\n",
    "plt.colorbar();"
   ]
  },
  {
   "cell_type": "code",
   "execution_count": null,
   "metadata": {},
   "outputs": [],
   "source": [
    "mask = hru_elev<7000\n",
    "plt.imshow(mask); # ; plt.colorbar()"
   ]
  },
  {
   "cell_type": "code",
   "execution_count": null,
   "metadata": {},
   "outputs": [],
   "source": [
    "rain_adj_jan = np.copy(rainadj[0,:,:])\n",
    "rain_adj_jan[mask] = rain_adj_jan[mask] * 0.8\n",
    "plt.imshow(rain_adj_jan)\n",
    "plt.colorbar();"
   ]
  },
  {
   "cell_type": "markdown",
   "metadata": {},
   "source": [
    "### Can you change `ssr2_gw_rate` values in subbasin 10?"
   ]
  },
  {
   "cell_type": "code",
   "execution_count": null,
   "metadata": {},
   "outputs": [],
   "source": [
    "hru_subbasin = gs.mf.uzf.irunbnd.array\n",
    "plt.imshow(hru_subbasin)\n",
    "plt.colorbar();"
   ]
  },
  {
   "cell_type": "code",
   "execution_count": null,
   "metadata": {},
   "outputs": [],
   "source": [
    "ssr2gw_rate = Params.get_values(\"ssr2gw_rate\").reshape(nrow, ncol)\n",
    "plt.imshow(ssr2gw_rate)\n",
    "plt.colorbar();"
   ]
  },
  {
   "cell_type": "code",
   "execution_count": null,
   "metadata": {},
   "outputs": [],
   "source": [
    "ssr2gw_rate[hru_subbasin==10] = ssr2gw_rate[hru_subbasin==10] * 0.0\n",
    "plt.imshow(ssr2gw_rate)\n",
    "plt.colorbar();"
   ]
  },
  {
   "cell_type": "code",
   "execution_count": null,
   "metadata": {},
   "outputs": [],
   "source": [
    "# The mask can also be complex \n",
    "mask2 = np.logical_and(hru_subbasin==10, hru_elev <7500)\n",
    "plt.imshow(mask2);"
   ]
  },
  {
   "cell_type": "markdown",
   "metadata": {},
   "source": [
    "## (3) Sensitivity Analysis\n",
    "\n",
    "Before Calibration, let us do sensitivity analysis.... a simple one!"
   ]
  },
  {
   "cell_type": "code",
   "execution_count": null,
   "metadata": {},
   "outputs": [],
   "source": [
    "%%time\n",
    "#parameters = ['gwflow_coef', 'gwsink_coef', 'ssr2gw_rate', 'slowcoef_lin', 'slowcoef_sq', 'smidx_coef', \n",
    "#              'snarea_curve', 'snarea_thresh']\n",
    "\n",
    "parameters = ['snarea_curve', 'ssr2gw_rate',  'gwflow_coef']\n",
    "control_file = os.path.join(\".\", \"data\", \"sagehen\", \"gsflow\", \"saghen_new_cont.control\")\n",
    "\n",
    "\n",
    "# load model files\n",
    "gs = GsflowModel.load_from_file(control_file=control_file)\n",
    "gs.gsflow_exe = os.path.abspath(os.path.join(\"..\", \"bin\", \"gsflow.exe\"))\n",
    "\n",
    "# Let us use PRMS\n",
    "gs.control.set_values(\"model_mode\", ['PRMS'])\n",
    "gs.control.set_values(\"print_debug\", [-1]) # this will turn off screen printout and reduce output to the notebook\n",
    "gs.control.set_values(name='end_time', values=[1990,1,1,0,0,0])\n",
    "\n",
    "Params = gs.prms.parameters\n",
    "\n",
    "# Save a copy of parameter values before they changes\n",
    "orig_params = {}\n",
    "for par in parameters:\n",
    "    orig_params[par] = np.copy(Params.get_values(par))\n",
    "\n",
    "orig_params"
   ]
  },
  {
   "cell_type": "markdown",
   "metadata": {},
   "source": [
    "##### Automation of Sensitivity Analysis\n",
    "We are going to use two loops: loop over parameters and loop over scaling factor. Within the parameter loop, the values of the parameter will be changed by multipling it by a list of scaling factors."
   ]
  },
  {
   "cell_type": "code",
   "execution_count": null,
   "metadata": {
    "scrolled": true
   },
   "outputs": [],
   "source": [
    "%%time\n",
    "# Parameters to be explored....\n",
    "#parameters = ['gwflow_coef', 'gwsink_coef', 'ssr2gw_rate', 'slowcoef_lin', 'slowcoef_sq', 'smidx_coef',\n",
    "#              'snarea_curve', 'snarea_thresh']\n",
    "parameters = ['snarea_curve', 'ssr2gw_rate',  'gwflow_coef']\n",
    "factors = [0.5, 0.75, 1.0, 1.25, 1.5]\n",
    "all_sens = {}\n",
    "\n",
    "## Nested Loop\n",
    "for par in parameters: # loop over parameters   \n",
    "    responce = []\n",
    "    for facc in factors: # loop over scaling factor       \n",
    "        print(\"\\n****** Par =  {}, Facc = {} ****** \".format(par, facc))\n",
    "        \n",
    "        Params.set_values(name=par, values = orig_params[par]*facc) # change the parameter  \n",
    "        \n",
    "        gs.write_input(workspace=os.path.join(\".\", \"data\", \"temp\"))                   # write input\n",
    "        \n",
    "        gs.run_model()                                              # run the model and wait for results\n",
    "        \n",
    "        gs.prms.get_StatVar()                                       # load results from Statvar \n",
    "        \n",
    "        mean_outflow = gs.prms.stat.stat_df['basin_cfs_1'].mean()   # compute the mean stream flow\n",
    "        \n",
    "        responce.append(mean_outflow)                               # save results\n",
    "    \n",
    "    all_sens[par] = responce\n",
    "    Params.set_values(name=par, values = orig_params[par])\n"
   ]
  },
  {
   "cell_type": "code",
   "execution_count": null,
   "metadata": {},
   "outputs": [],
   "source": [
    "plt.figure(figsize=(15,8))\n",
    "for par in all_sens.keys():\n",
    "    plt.plot(factors, all_sens[par], label = par, marker=11 )\n",
    "plt.ylabel(\"Average Stream Flow (cfs)\")\n",
    "plt.xlabel(\"Scaling Factor\")\n",
    "plt.legend()\n",
    "    "
   ]
  },
  {
   "cell_type": "markdown",
   "metadata": {},
   "source": [
    "## (4) Simple Calibration \n",
    "\n",
    "\n",
    "### (4.a) Error Evaluation\n"
   ]
  },
  {
   "cell_type": "code",
   "execution_count": null,
   "metadata": {},
   "outputs": [],
   "source": [
    "# Before we start let us load the model\n",
    "control_file = os.path.join(\".\", \"data\", \"sagehen\", \"gsflow\", \"saghen_new_cont.control\")\n",
    "gs = GsflowModel.load_from_file(control_file)\n",
    "gs.gsflow_exe = os.path.abspath(os.path.join(\"..\", \"bin\", \"gsflow.exe\"))\n",
    "gs.control.set_values(\"model_mode\", ['PRMS']) # todo: remove list requirement when no list is necessary. Provide check on datatype\n",
    "gs.control.set_values(\"print_debug\", [-1]) # this will turn off screen printout and reduce output to the notebook\n",
    "gs.control.set_values(name='end_time', values=[1990,1,1,0,0,0])\n",
    "Params = gs.prms.parameters\n",
    "\n",
    "gs.write_input(workspace=os.path.join(\".\", \"data\", \"temp\"))              # write input\n",
    "gs.run_model()                                         # run the model\n",
    "gs.prms.get_StatVar()  \n",
    "# gs.run_model()   \n"
   ]
  },
  {
   "cell_type": "markdown",
   "metadata": {},
   "source": [
    "#### Compare measurements and simulations"
   ]
  },
  {
   "cell_type": "code",
   "execution_count": null,
   "metadata": {},
   "outputs": [],
   "source": [
    "# Dialy Stream flow\n",
    "# get measurments within the simulation period...\n",
    "meas_data = gs.prms.data.data_df  # Data object in PRMS\n",
    "mask = np.logical_and(meas_data['Date']>=pd.Timestamp('1982-08-01'),  meas_data['Date']<=pd.Timestamp('1990-01-11'))\n",
    "measure_data = gs.prms.data.data_df[mask]\n",
    "\n",
    "# get simulation results\n",
    "simData = gs.prms.stat.stat_df  # Results from StatVar file\n",
    "\n",
    "# plot simulated vs. measured flow\n",
    "ax = measure_data.plot(x= 'Date' , y= 'runoff_0', color = 'r', label = 'Measured')\n",
    "simData.plot(ax=ax, x= 'Date' , y= 'basin_cfs_1', color = 'b', label = 'Simulated', figsize = (15,8))\n",
    "plt.legend()\n",
    "measure_data"
   ]
  },
  {
   "cell_type": "markdown",
   "metadata": {},
   "source": [
    "#### Monthly Stream flow\n"
   ]
  },
  {
   "cell_type": "code",
   "execution_count": null,
   "metadata": {},
   "outputs": [],
   "source": [
    "# Monthly average for streamflow measurements\n",
    "monthly_meas = measure_data.groupby([measure_data.Date.dt.year, measure_data.Month]).mean()\n",
    "monthly_sim = simData.groupby([simData.Date.dt.year, simData.Month]).mean()\n",
    "\n",
    "# Plots\n",
    "plt.figure(figsize=(15,7))\n",
    "\n",
    "plt.subplot(1,2,1)\n",
    "plt.plot(monthly_meas['runoff_0'].values, 'r', label = 'Measured')\n",
    "plt.plot(monthly_sim['basin_cfs_1'].values, 'b', label = 'Simulated')\n",
    "plt.xlabel(\"Month Number after starting Year (1982)\")\n",
    "plt.ylabel(\"Flow (cfs)\")\n",
    "plt.legend()\n",
    "\n",
    "plt.subplot(1,2,2)\n",
    "plt.scatter(monthly_meas['runoff_0'].values,monthly_sim['basin_cfs_1'].values ); plt.plot([0,140],[0,140],'r')\n",
    "plt.xlabel(\"Measured flow (cfs)\")\n",
    "plt.ylabel(\"Simulated flow (cfs)\")\n"
   ]
  },
  {
   "cell_type": "markdown",
   "metadata": {},
   "source": [
    "### (4.b) Compute Error Metric"
   ]
  },
  {
   "cell_type": "code",
   "execution_count": null,
   "metadata": {},
   "outputs": [],
   "source": [
    "def calculate_error(gs):\n",
    "    \"\"\"\n",
    "    This function calculates mean squared error for simulated stream flow.\n",
    "    \"\"\"\n",
    "    meas_data = gs.prms.data.data_df # get measured data\n",
    "    # Get data for simulated period\n",
    "    mask = np.logical_and(meas_data['Date']>=pd.Timestamp('1982-08-01'),  meas_data['Date']<=pd.Timestamp('1990-01-01'))    \n",
    "    measure_data = gs.prms.data.data_df[mask]\n",
    "    \n",
    "    # get simulated values\n",
    "    simData = gs.prms.stat.stat_df\n",
    "    \n",
    "    # compute error\n",
    "    err = simData['basin_cfs_1'].values - measure_data['runoff_0'].values\n",
    "    # compute mean squared error\n",
    "    rmse = (np.mean(np.power(err, 2.0)))**0.5\n",
    "    return rmse"
   ]
  },
  {
   "cell_type": "markdown",
   "metadata": {},
   "source": [
    "### (4.c) Simple Calibration\n",
    "Change one parameter at a time. This method can be useful when input parameters are independent.\n",
    "<img src = \".\\figures\\calibration_cycle.png\">"
   ]
  },
  {
   "cell_type": "code",
   "execution_count": null,
   "metadata": {},
   "outputs": [],
   "source": [
    "orig_params.keys()"
   ]
  },
  {
   "cell_type": "code",
   "execution_count": null,
   "metadata": {},
   "outputs": [],
   "source": [
    "%%time\n",
    "parameters = ['gwflow_coef', 'snarea_curve', 'ssr2gw_rate']\n",
    "factors = [ 0.75, 1.0, 1.25, 1.5, 1.75, 2.0, 2.25]\n",
    "all_errors = {}\n",
    "for par in parameters:    \n",
    "    errors = []\n",
    "    for facc in factors:\n",
    "        print(\"\\n****** Par =  {}, Facc = {} ****** \".format(par, facc))\n",
    "        \n",
    "        # change input parameters\n",
    "        Params.set_values(name=par, values = orig_params[par]*facc) # change the parameter\n",
    "        \n",
    "        # write input files\n",
    "        gs.write_input(workspace=os.path.join(\".\", \"data\", \"temp\"))              # write input\n",
    "        \n",
    "        # run the model\n",
    "        gs.run_model()                                              # run the model\n",
    "        \n",
    "        # load the results\n",
    "        gs.prms.get_StatVar()                                       # load load results from Statvar \n",
    "        \n",
    "        # calculate the error\n",
    "        err = calculate_error(gs)                                    # compute the mean square error\n",
    "        errors.append(err)\n",
    "        \n",
    "    all_errors[par] = errors\n",
    "    Params.set_values(name=par, values=orig_params[par])\n",
    "   \n"
   ]
  },
  {
   "cell_type": "code",
   "execution_count": null,
   "metadata": {},
   "outputs": [],
   "source": [
    "plt.figure(figsize=(15,5))\n",
    "i = 1\n",
    "for par in all_errors.keys():\n",
    "    plt.subplot(1,3,i)\n",
    "    plt.plot(factors, all_errors[par], label = par, marker='s' )\n",
    "    if i == 1:\n",
    "        plt.ylabel(\"Mean Squared Error \" + r\"$(ft^{3})$\")\n",
    "    i = i + 1\n",
    "    plt.ylim([20, 25])\n",
    "    plt.title(par)\n",
    "\n",
    "plt.show()\n",
    "    "
   ]
  },
  {
   "cell_type": "markdown",
   "metadata": {},
   "source": [
    "### Remember: This calibration method is usefull only if input parameters are independent. In external calibration software, parameters can be changed and evaluated concurrently."
   ]
  },
  {
   "cell_type": "code",
   "execution_count": null,
   "metadata": {},
   "outputs": [],
   "source": []
  }
 ],
 "metadata": {
  "kernelspec": {
   "display_name": "Python 3",
   "language": "python",
   "name": "python3"
  },
  "language_info": {
   "codemirror_mode": {
    "name": "ipython",
    "version": 3
   },
   "file_extension": ".py",
   "mimetype": "text/x-python",
   "name": "python",
   "nbconvert_exporter": "python",
   "pygments_lexer": "ipython3",
   "version": "3.7.4"
  }
 },
 "nbformat": 4,
 "nbformat_minor": 2
}
